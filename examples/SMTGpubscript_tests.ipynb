{
 "cells": [
  {
   "cell_type": "markdown",
   "metadata": {},
   "source": [
    "# Test 1 - trying to import ADS stuff.."
   ]
  },
  {
   "cell_type": "code",
   "execution_count": 11,
   "metadata": {
    "collapsed": true
   },
   "outputs": [],
   "source": [
    "from __future__ import print_function,division"
   ]
  },
  {
   "cell_type": "code",
   "execution_count": 12,
   "metadata": {
    "collapsed": false
   },
   "outputs": [],
   "source": [
    "import ads\n",
    "import sys\n",
    "import numpy\n",
    "import unicodedata\n",
    "from StringIO import StringIO\n",
    "from time import localtime"
   ]
  },
  {
   "cell_type": "code",
   "execution_count": 13,
   "metadata": {
    "collapsed": true
   },
   "outputs": [],
   "source": [
    "ads.config.token = 'zmmgkG86fM0hBeBjoOJicrr5GegJWe69vJ5ULDNd'"
   ]
  },
  {
   "cell_type": "code",
   "execution_count": 54,
   "metadata": {
    "collapsed": false
   },
   "outputs": [],
   "source": [
    "papers = ads.SearchQuery(q=\"author:\\\"Threlfall, J.\\\" database:(\\\"astronomy OR physics\\\") \", sort=\"citation_count\")"
   ]
  },
  {
   "cell_type": "code",
   "execution_count": 55,
   "metadata": {
    "collapsed": false
   },
   "outputs": [],
   "source": [
    "for paper in papers:\n",
    "    print(paper.title)"
   ]
  },
  {
   "cell_type": "code",
   "execution_count": 5,
   "metadata": {
    "collapsed": false
   },
   "outputs": [
    {
     "name": "stdout",
     "output_type": "stream",
     "text": [
      "Querying Year/Month 2016 / 5\n"
     ]
    }
   ],
   "source": [
    "now = localtime()\n",
    "year, month = (now.tm_year, now.tm_mon - 1)\n",
    "if 1 > month: year, month = (year - 1, month)\n",
    "print('Querying Year/Month {0} / {1}'.format(year, month))\n",
    "\n",
    "    # Retrieve all the articles published last month.\n",
    "articles = ads.SearchQuery(\n",
    "q='aff:\"School of Mathematics and Statistics, University of St. Andrews\" '\\\n",
    "    'property:refereed pubdate:{0}'.format(year),\n",
    "    fl=['id', 'first_author', 'year', 'bibcode', 'identifier'],\n",
    "    sort='read_count desc')\n"
   ]
  },
  {
   "cell_type": "code",
   "execution_count": 6,
   "metadata": {
    "collapsed": false
   },
   "outputs": [
    {
     "name": "stderr",
     "output_type": "stream",
     "text": [
      "/Users/james/anaconda/lib/python2.7/site-packages/ads/utils.py:23: UserWarning: You are lazy loading attributes via 'author', and so are making multiple calls to the API. This will impact your overall rate limits.\n",
      "  UserWarning,\n",
      "/Users/james/anaconda/lib/python2.7/site-packages/ads/utils.py:23: UserWarning: You are lazy loading attributes via 'year', and so are making multiple calls to the API. This will impact your overall rate limits.\n",
      "  UserWarning,\n"
     ]
    },
    {
     "name": "stdout",
     "output_type": "stream",
     "text": [
      "<Jess, David B. et al. 2016, 2016NatPh..12..179J>\n",
      "<Borissov, Alexei et al. 2016, 2016SoPh..tmp...85B>\n",
      "<Wedemeyer, S. et al. 2016, 2016SSRv..200....1W>\n",
      "<Gibb, G. P. S. et al. 2016, 2016MNRAS.456.3624G>\n",
      "<Shaaban, S. M. et al. 2016, 2016Ap&SS.361..193S>\n",
      "<Wilson, F. et al. 2016, 2016PhPl...23c2302W>\n",
      "<Terradas, J. et al. 2016, 2016ApJ...820..125T>\n",
      "<Lazar, M. et al. 2016, 2016A&A...589A..39L>\n",
      "<Bareford, M. R. et al. 2016, 2016SoPh..291..187B>\n",
      "<Hood, A. W. et al. 2016, 2016ApJ...817....5H>\n",
      "<Threlfall, J. et al. 2016, 2016A&A...587A...4T>\n",
      "<De Moortel, I. et al. 2016, 2016PPCF...58a4001D>\n",
      "<MacTaggart, D. et al. 2016, 2016MNRAS.456..767M>\n",
      "<Threlfall, J. et al. 2016, 2016A&A...585A..95T>\n",
      "<Cargill, P. J. et al. 2016, 2016ApJ...823...31C>\n",
      "<Weinzierl, Marion et al. 2016, 2016ApJ...823...55W>\n",
      "<Smith, Karen L. et al. 2016, 2016GeoRL..43.2904S>\n"
     ]
    }
   ],
   "source": [
    "for article in articles:\n",
    "    print(article)"
   ]
  },
  {
   "cell_type": "code",
   "execution_count": 45,
   "metadata": {
    "collapsed": false
   },
   "outputs": [
    {
     "name": "stdout",
     "output_type": "stream",
     "text": [
      "<ads.search.SearchQuery object at 0x1075225d0>\n"
     ]
    }
   ],
   "source": [
    "print(articles)\n"
   ]
  },
  {
   "cell_type": "code",
   "execution_count": 58,
   "metadata": {
    "collapsed": true
   },
   "outputs": [],
   "source": [
    "f = open('/Users/james/Public/smtg/staff_current.txt', 'r')"
   ]
  },
  {
   "cell_type": "code",
   "execution_count": 60,
   "metadata": {
    "collapsed": false
   },
   "outputs": [],
   "source": [
    "for line in f:\n",
    "        print line,"
   ]
  },
  {
   "cell_type": "code",
   "execution_count": 30,
   "metadata": {
    "collapsed": false
   },
   "outputs": [
    {
     "data": {
      "text/plain": [
       "''"
      ]
     },
     "execution_count": 30,
     "metadata": {},
     "output_type": "execute_result"
    }
   ],
   "source": [
    "f.readline()"
   ]
  },
  {
   "cell_type": "code",
   "execution_count": 65,
   "metadata": {
    "collapsed": true
   },
   "outputs": [],
   "source": [
    "def load(fname):\n",
    "    ''' load the file using std open'''\n",
    "    f = open(fname,'r')\n",
    "\n",
    "    data = []\n",
    "    for line in f.readlines():\n",
    "        data.append(line.replace('\\n','').split(','))\n",
    "\n",
    "    f.close()\n",
    "\n",
    "    return data"
   ]
  },
  {
   "cell_type": "code",
   "execution_count": 373,
   "metadata": {
    "collapsed": false
   },
   "outputs": [],
   "source": [
    "def compareauthor(name):\n",
    "    '''compare author with SMTG grp members and return link if matched'''    \n",
    "    assert type(name) == str, 'name must be string'\n",
    "    \n",
    "    staff = load('/Users/james/Public/smtg/staff_current.txt')\n",
    "    stafflist=[]\n",
    "    found=0\n",
    "    for people in staff:\n",
    "        if ','.join(people[2:4])[2:-1] == name:\n",
    "            #print('FOUND'),\n",
    "            found=1\n",
    "            jsthing=''.join(people[7:])\n",
    "            #print(jsthing[1:]),\n",
    "            linktoreturn = \"<a href={0}>{1}</a>\".format(jsthing[1:],name)\n",
    "            #print(linktoreturn),\n",
    "            #linktoreturn=\"<a href=\\\"\"+''.join(people[7:])+\">\"\n",
    "            #linktoreturn=linktoreturn+name+\"</a>\"\n",
    "\n",
    "    if found == 0:\n",
    "        linktoreturn=name\n",
    "            \n",
    "    return linktoreturn"
   ]
  },
  {
   "cell_type": "code",
   "execution_count": 375,
   "metadata": {
    "collapsed": false
   },
   "outputs": [
    {
     "name": "stdout",
     "output_type": "stream",
     "text": [
      "Monk, G.\n"
     ]
    },
    {
     "data": {
      "text/plain": [
       "(None,)"
      ]
     },
     "execution_count": 375,
     "metadata": {},
     "output_type": "execute_result"
    }
   ],
   "source": [
    "temp=compareauthor(name='Monk, G.')\n",
    "print(temp),"
   ]
  },
  {
   "cell_type": "code",
   "execution_count": 324,
   "metadata": {
    "collapsed": false
   },
   "outputs": [
    {
     "name": "stdout",
     "output_type": "stream",
     "text": [
      " \"javascript:createDoc('Prof. Alan Hood''305''alan''awh''01334 463710')\"\n",
      "nope\n",
      "nope\n",
      "nope\n",
      "nope\n",
      "nope\n",
      "nope\n",
      "nope\n",
      "nope\n",
      "nope\n",
      "nope\n",
      "nope\n",
      "nope\n",
      "nope\n",
      "nope\n",
      "nope\n",
      "nope\n",
      "nope\n",
      "nope\n",
      "nope\n",
      "nope\n",
      "nope\n",
      "nope\n",
      "nope\n",
      "nope\n",
      "nope\n",
      "nope\n",
      "nope\n",
      "nope\n",
      "nope\n",
      "nope\n"
     ]
    }
   ],
   "source": [
    "staff = load('/Users/james/Public/smtg/staff_current.txt')\n",
    "\n",
    "mystafflist=[]\n",
    "\n",
    "for people in staff:\n",
    "    abbrname=','.join(people[2:4])\n",
    "    abbrname=abbrname[2:-1]\n",
    "    mystafflist.append(abbrname)\n",
    "    \n",
    "for people in staff:\n",
    "    if ','.join(people[2:4])[2:-1] == 'Hood, A. W.':\n",
    "        print(''.join(people[7:])),\n",
    "    else:\n",
    "        print('nope'),\n",
    "\n",
    "\n",
    "\n",
    "\n",
    "    #if abbrname == 'Hood, A. W.':\n",
    "    #    tempname = \"HERO->{0}\".format(abbrname)\n",
    "    #    print(tempname),\n",
    "    #else:\n",
    "    #    print(abbrname),\n",
    "\n"
   ]
  },
  {
   "cell_type": "code",
   "execution_count": null,
   "metadata": {
    "collapsed": true
   },
   "outputs": [],
   "source": []
  },
  {
   "cell_type": "code",
   "execution_count": 16,
   "metadata": {
    "collapsed": false
   },
   "outputs": [
    {
     "name": "stdout",
     "output_type": "stream",
     "text": [
      "Hood, A. W.\n"
     ]
    }
   ],
   "source": [
    "stafflist=[\"Hood, A. W.\", \"Archontis, V.\",\"De Moortel, I.\",\"Mackay, D. H.\",\"Neukirch, T.\",\"Parnell, C. E.\",\"Wright, A. N.\",\"Conlon, T. M.\",\n",
    "           \"Antolin, P.\", \"Pagano, P.\",\"Threlfall, J.\",\"Wilson, F.\", \"Haynes, A. L.\", \"Brooks, S.\", \"Fruchtl, H.\",\n",
    "           \"MacFarlane, F.\", \"Stevenson, J. E. H.\", \"Elsden, T.\", \"Hodgson, J.\",\"Lee, E. J.\", \"O'Hara, J.\", \"Allanson, O.\", \n",
    "           \"Sturrock, Z.\", \"Borissov, A.\",\"Johnston, C.\",\"Williams, B.\",\"Goldstraw, E.\",\"Howson, T.\", \"Priest, E. R.\",\n",
    "           \"Cargill, P. J.\",\"Roberts, B.\"]\n",
    "print(stafflist[0])"
   ]
  },
  {
   "cell_type": "code",
   "execution_count": 19,
   "metadata": {
    "collapsed": false
   },
   "outputs": [
    {
     "name": "stdout",
     "output_type": "stream",
     "text": [
      "Querying Year/Month 2016 / 5\n",
      "Hood, A. W. had 0 publications this year\n",
      "Archontis, V. had 0 publications this year\n",
      "De Moortel, I. had 0 publications this year\n",
      "Mackay, D. H. had 0 publications this year\n",
      "Neukirch, T. had 0 publications this year\n",
      "Parnell, C. E. had 0 publications this year\n",
      "Wright, A. N. had 0 publications this year\n",
      "Conlon, T. M. had 0 publications this year\n",
      "Antolin, P. had 0 publications this year\n",
      "Pagano, P. had 0 publications this year\n",
      "Threlfall, J. had 0 publications this year\n",
      "Wilson, F. had 0 publications this year\n",
      "Haynes, A. L. had 0 publications this year\n",
      "Brooks, S. had 0 publications this year\n",
      "Fruchtl, H. had 0 publications this year\n",
      "MacFarlane, F. had 0 publications this year\n",
      "Stevenson, J. E. H. had 0 publications this year\n",
      "Elsden, T. had 0 publications this year\n",
      "Hodgson, J. had 0 publications this year\n",
      "Lee, E. J. had 0 publications this year\n",
      "O'Hara, J. had 0 publications this year\n",
      "Allanson, O. had 0 publications this year\n",
      "Sturrock, Z. had 0 publications this year\n",
      "Borissov, A. had 0 publications this year\n",
      "Johnston, C. had 0 publications this year\n",
      "Williams, B. had 0 publications this year\n",
      "Goldstraw, E. had 0 publications this year\n",
      "Howson, T. had 0 publications this year\n",
      "Priest, E. R. had 0 publications this year\n",
      "Cargill, P. J. had 0 publications this year\n",
      "Roberts, B. had 0 publications this year\n"
     ]
    }
   ],
   "source": [
    "now = localtime()\n",
    "year, month = (now.tm_year, now.tm_mon - 1)\n",
    "if 1 > month: year, month = (year, month)\n",
    "print('Querying Year/Month {0} / {1}'.format(year, month))\n",
    "\n",
    "for person in stafflist:\n",
    "    q= ads.SearchQuery(\n",
    "        q='author:\"{person}\", year:\"{year}\"',\n",
    "    fl=['id', 'first_author', 'year', 'bibcode', 'identifier'],\n",
    "    sort='read_count desc')\n",
    "    q.execute()\n",
    "\n",
    "    num = int(q.response.numFound)\n",
    "    print(\"{person} had {num} publications this year\"\n",
    "                  .format(person=person, num=num))"
   ]
  },
  {
   "cell_type": "code",
   "execution_count": 77,
   "metadata": {
    "collapsed": false
   },
   "outputs": [
    {
     "name": "stdout",
     "output_type": "stream",
     "text": [
      "2016\n"
     ]
    }
   ],
   "source": [
    "print(year)"
   ]
  },
  {
   "cell_type": "code",
   "execution_count": 81,
   "metadata": {
    "collapsed": false
   },
   "outputs": [
    {
     "name": "stdout",
     "output_type": "stream",
     "text": [
      "Astrobiology had 0 publications in 1993\n",
      "Astrobiology had 0 publications in 1994\n",
      "Astrobiology had 0 publications in 1995\n",
      "Astrobiology had 11 publications in 1996\n",
      "Astrobiology had 0 publications in 1997\n",
      "Astrobiology had 35 publications in 1998\n",
      "Astrobiology had 25 publications in 1999\n",
      "Astrobiology had 12 publications in 2000\n",
      "Astrobiology had 42 publications in 2001\n",
      "Astrobiology had 120 publications in 2002\n",
      "Astrobiology had 170 publications in 2003\n",
      "Astrobiology had 144 publications in 2004\n",
      "Astrobiology had 159 publications in 2005\n",
      "Astrobiology had 98 publications in 2006\n",
      "Astrobiology had 119 publications in 2007\n",
      "Astrobiology had 132 publications in 2008\n",
      "Astrobiology had 129 publications in 2009\n",
      "Astrobiology had 121 publications in 2010\n",
      "Astrobiology had 126 publications in 2011\n"
     ]
    },
    {
     "ename": "KeyboardInterrupt",
     "evalue": "",
     "output_type": "error",
     "traceback": [
      "\u001b[0;31m---------------------------------------------------------------------------\u001b[0m",
      "\u001b[0;31mKeyboardInterrupt\u001b[0m                         Traceback (most recent call last)",
      "\u001b[0;32m<ipython-input-81-bc0ea12cfae2>\u001b[0m in \u001b[0;36m<module>\u001b[0;34m()\u001b[0m\n\u001b[1;32m     66\u001b[0m             \u001b[0;31m# which tells us how many publications there were\u001b[0m\u001b[0;34m\u001b[0m\u001b[0;34m\u001b[0m\u001b[0m\n\u001b[1;32m     67\u001b[0m             \u001b[0mq\u001b[0m \u001b[0;34m=\u001b[0m \u001b[0mads\u001b[0m\u001b[0;34m.\u001b[0m\u001b[0mSearchQuery\u001b[0m\u001b[0;34m(\u001b[0m\u001b[0mq\u001b[0m\u001b[0;34m=\u001b[0m\u001b[0;34m\"pub:\\\"{journal}\\\" year:{year}\"\u001b[0m\u001b[0;34m.\u001b[0m\u001b[0mformat\u001b[0m\u001b[0;34m(\u001b[0m\u001b[0mjournal\u001b[0m\u001b[0;34m=\u001b[0m\u001b[0mjournal\u001b[0m\u001b[0;34m,\u001b[0m \u001b[0myear\u001b[0m\u001b[0;34m=\u001b[0m\u001b[0myear\u001b[0m\u001b[0;34m)\u001b[0m\u001b[0;34m,\u001b[0m \u001b[0mfl\u001b[0m\u001b[0;34m=\u001b[0m\u001b[0;34m[\u001b[0m\u001b[0;34m'id'\u001b[0m\u001b[0;34m]\u001b[0m\u001b[0;34m,\u001b[0m \u001b[0mrows\u001b[0m\u001b[0;34m=\u001b[0m\u001b[0;36m1\u001b[0m\u001b[0;34m)\u001b[0m\u001b[0;34m\u001b[0m\u001b[0m\n\u001b[0;32m---> 68\u001b[0;31m             \u001b[0mq\u001b[0m\u001b[0;34m.\u001b[0m\u001b[0mexecute\u001b[0m\u001b[0;34m(\u001b[0m\u001b[0;34m)\u001b[0m\u001b[0;34m\u001b[0m\u001b[0m\n\u001b[0m\u001b[1;32m     69\u001b[0m \u001b[0;34m\u001b[0m\u001b[0m\n\u001b[1;32m     70\u001b[0m             \u001b[0mnum\u001b[0m \u001b[0;34m=\u001b[0m \u001b[0mint\u001b[0m\u001b[0;34m(\u001b[0m\u001b[0mq\u001b[0m\u001b[0;34m.\u001b[0m\u001b[0mresponse\u001b[0m\u001b[0;34m.\u001b[0m\u001b[0mnumFound\u001b[0m\u001b[0;34m)\u001b[0m\u001b[0;34m\u001b[0m\u001b[0m\n",
      "\u001b[0;32m/Users/james/anaconda/lib/python2.7/site-packages/ads/search.pyc\u001b[0m in \u001b[0;36mexecute\u001b[0;34m(self)\u001b[0m\n\u001b[1;32m    424\u001b[0m         \"\"\"\n\u001b[1;32m    425\u001b[0m         self.response = SolrResponse.load_http_response(\n\u001b[0;32m--> 426\u001b[0;31m             \u001b[0mself\u001b[0m\u001b[0;34m.\u001b[0m\u001b[0msession\u001b[0m\u001b[0;34m.\u001b[0m\u001b[0mget\u001b[0m\u001b[0;34m(\u001b[0m\u001b[0mself\u001b[0m\u001b[0;34m.\u001b[0m\u001b[0mHTTP_ENDPOINT\u001b[0m\u001b[0;34m,\u001b[0m \u001b[0mparams\u001b[0m\u001b[0;34m=\u001b[0m\u001b[0mself\u001b[0m\u001b[0;34m.\u001b[0m\u001b[0mquery\u001b[0m\u001b[0;34m)\u001b[0m\u001b[0;34m\u001b[0m\u001b[0m\n\u001b[0m\u001b[1;32m    427\u001b[0m         )\n\u001b[1;32m    428\u001b[0m \u001b[0;34m\u001b[0m\u001b[0m\n",
      "\u001b[0;32m/Users/james/anaconda/lib/python2.7/site-packages/requests/sessions.pyc\u001b[0m in \u001b[0;36mget\u001b[0;34m(self, url, **kwargs)\u001b[0m\n\u001b[1;32m    478\u001b[0m \u001b[0;34m\u001b[0m\u001b[0m\n\u001b[1;32m    479\u001b[0m         \u001b[0mkwargs\u001b[0m\u001b[0;34m.\u001b[0m\u001b[0msetdefault\u001b[0m\u001b[0;34m(\u001b[0m\u001b[0;34m'allow_redirects'\u001b[0m\u001b[0;34m,\u001b[0m \u001b[0mTrue\u001b[0m\u001b[0;34m)\u001b[0m\u001b[0;34m\u001b[0m\u001b[0m\n\u001b[0;32m--> 480\u001b[0;31m         \u001b[0;32mreturn\u001b[0m \u001b[0mself\u001b[0m\u001b[0;34m.\u001b[0m\u001b[0mrequest\u001b[0m\u001b[0;34m(\u001b[0m\u001b[0;34m'GET'\u001b[0m\u001b[0;34m,\u001b[0m \u001b[0murl\u001b[0m\u001b[0;34m,\u001b[0m \u001b[0;34m**\u001b[0m\u001b[0mkwargs\u001b[0m\u001b[0;34m)\u001b[0m\u001b[0;34m\u001b[0m\u001b[0m\n\u001b[0m\u001b[1;32m    481\u001b[0m \u001b[0;34m\u001b[0m\u001b[0m\n\u001b[1;32m    482\u001b[0m     \u001b[0;32mdef\u001b[0m \u001b[0moptions\u001b[0m\u001b[0;34m(\u001b[0m\u001b[0mself\u001b[0m\u001b[0;34m,\u001b[0m \u001b[0murl\u001b[0m\u001b[0;34m,\u001b[0m \u001b[0;34m**\u001b[0m\u001b[0mkwargs\u001b[0m\u001b[0;34m)\u001b[0m\u001b[0;34m:\u001b[0m\u001b[0;34m\u001b[0m\u001b[0m\n",
      "\u001b[0;32m/Users/james/anaconda/lib/python2.7/site-packages/requests/sessions.pyc\u001b[0m in \u001b[0;36mrequest\u001b[0;34m(self, method, url, params, data, headers, cookies, files, auth, timeout, allow_redirects, proxies, hooks, stream, verify, cert, json)\u001b[0m\n\u001b[1;32m    466\u001b[0m         }\n\u001b[1;32m    467\u001b[0m         \u001b[0msend_kwargs\u001b[0m\u001b[0;34m.\u001b[0m\u001b[0mupdate\u001b[0m\u001b[0;34m(\u001b[0m\u001b[0msettings\u001b[0m\u001b[0;34m)\u001b[0m\u001b[0;34m\u001b[0m\u001b[0m\n\u001b[0;32m--> 468\u001b[0;31m         \u001b[0mresp\u001b[0m \u001b[0;34m=\u001b[0m \u001b[0mself\u001b[0m\u001b[0;34m.\u001b[0m\u001b[0msend\u001b[0m\u001b[0;34m(\u001b[0m\u001b[0mprep\u001b[0m\u001b[0;34m,\u001b[0m \u001b[0;34m**\u001b[0m\u001b[0msend_kwargs\u001b[0m\u001b[0;34m)\u001b[0m\u001b[0;34m\u001b[0m\u001b[0m\n\u001b[0m\u001b[1;32m    469\u001b[0m \u001b[0;34m\u001b[0m\u001b[0m\n\u001b[1;32m    470\u001b[0m         \u001b[0;32mreturn\u001b[0m \u001b[0mresp\u001b[0m\u001b[0;34m\u001b[0m\u001b[0m\n",
      "\u001b[0;32m/Users/james/anaconda/lib/python2.7/site-packages/requests/sessions.pyc\u001b[0m in \u001b[0;36msend\u001b[0;34m(self, request, **kwargs)\u001b[0m\n\u001b[1;32m    574\u001b[0m \u001b[0;34m\u001b[0m\u001b[0m\n\u001b[1;32m    575\u001b[0m         \u001b[0;31m# Send the request\u001b[0m\u001b[0;34m\u001b[0m\u001b[0;34m\u001b[0m\u001b[0m\n\u001b[0;32m--> 576\u001b[0;31m         \u001b[0mr\u001b[0m \u001b[0;34m=\u001b[0m \u001b[0madapter\u001b[0m\u001b[0;34m.\u001b[0m\u001b[0msend\u001b[0m\u001b[0;34m(\u001b[0m\u001b[0mrequest\u001b[0m\u001b[0;34m,\u001b[0m \u001b[0;34m**\u001b[0m\u001b[0mkwargs\u001b[0m\u001b[0;34m)\u001b[0m\u001b[0;34m\u001b[0m\u001b[0m\n\u001b[0m\u001b[1;32m    577\u001b[0m \u001b[0;34m\u001b[0m\u001b[0m\n\u001b[1;32m    578\u001b[0m         \u001b[0;31m# Total elapsed time of the request (approximately)\u001b[0m\u001b[0;34m\u001b[0m\u001b[0;34m\u001b[0m\u001b[0m\n",
      "\u001b[0;32m/Users/james/anaconda/lib/python2.7/site-packages/requests/adapters.pyc\u001b[0m in \u001b[0;36msend\u001b[0;34m(self, request, stream, timeout, verify, cert, proxies)\u001b[0m\n\u001b[1;32m    374\u001b[0m                     \u001b[0mdecode_content\u001b[0m\u001b[0;34m=\u001b[0m\u001b[0mFalse\u001b[0m\u001b[0;34m,\u001b[0m\u001b[0;34m\u001b[0m\u001b[0m\n\u001b[1;32m    375\u001b[0m                     \u001b[0mretries\u001b[0m\u001b[0;34m=\u001b[0m\u001b[0mself\u001b[0m\u001b[0;34m.\u001b[0m\u001b[0mmax_retries\u001b[0m\u001b[0;34m,\u001b[0m\u001b[0;34m\u001b[0m\u001b[0m\n\u001b[0;32m--> 376\u001b[0;31m                     \u001b[0mtimeout\u001b[0m\u001b[0;34m=\u001b[0m\u001b[0mtimeout\u001b[0m\u001b[0;34m\u001b[0m\u001b[0m\n\u001b[0m\u001b[1;32m    377\u001b[0m                 )\n\u001b[1;32m    378\u001b[0m \u001b[0;34m\u001b[0m\u001b[0m\n",
      "\u001b[0;32m/Users/james/anaconda/lib/python2.7/site-packages/requests/packages/urllib3/connectionpool.pyc\u001b[0m in \u001b[0;36murlopen\u001b[0;34m(self, method, url, body, headers, retries, redirect, assert_same_host, timeout, pool_timeout, release_conn, **response_kw)\u001b[0m\n\u001b[1;32m    557\u001b[0m             httplib_response = self._make_request(conn, method, url,\n\u001b[1;32m    558\u001b[0m                                                   \u001b[0mtimeout\u001b[0m\u001b[0;34m=\u001b[0m\u001b[0mtimeout_obj\u001b[0m\u001b[0;34m,\u001b[0m\u001b[0;34m\u001b[0m\u001b[0m\n\u001b[0;32m--> 559\u001b[0;31m                                                   body=body, headers=headers)\n\u001b[0m\u001b[1;32m    560\u001b[0m \u001b[0;34m\u001b[0m\u001b[0m\n\u001b[1;32m    561\u001b[0m             \u001b[0;31m# If we're going to release the connection in ``finally:``, then\u001b[0m\u001b[0;34m\u001b[0m\u001b[0;34m\u001b[0m\u001b[0m\n",
      "\u001b[0;32m/Users/james/anaconda/lib/python2.7/site-packages/requests/packages/urllib3/connectionpool.pyc\u001b[0m in \u001b[0;36m_make_request\u001b[0;34m(self, conn, method, url, timeout, **httplib_request_kw)\u001b[0m\n\u001b[1;32m    343\u001b[0m         \u001b[0;31m# Trigger any extra validation we need to do.\u001b[0m\u001b[0;34m\u001b[0m\u001b[0;34m\u001b[0m\u001b[0m\n\u001b[1;32m    344\u001b[0m         \u001b[0;32mtry\u001b[0m\u001b[0;34m:\u001b[0m\u001b[0;34m\u001b[0m\u001b[0m\n\u001b[0;32m--> 345\u001b[0;31m             \u001b[0mself\u001b[0m\u001b[0;34m.\u001b[0m\u001b[0m_validate_conn\u001b[0m\u001b[0;34m(\u001b[0m\u001b[0mconn\u001b[0m\u001b[0;34m)\u001b[0m\u001b[0;34m\u001b[0m\u001b[0m\n\u001b[0m\u001b[1;32m    346\u001b[0m         \u001b[0;32mexcept\u001b[0m \u001b[0;34m(\u001b[0m\u001b[0mSocketTimeout\u001b[0m\u001b[0;34m,\u001b[0m \u001b[0mBaseSSLError\u001b[0m\u001b[0;34m)\u001b[0m \u001b[0;32mas\u001b[0m \u001b[0me\u001b[0m\u001b[0;34m:\u001b[0m\u001b[0;34m\u001b[0m\u001b[0m\n\u001b[1;32m    347\u001b[0m             \u001b[0;31m# Py2 raises this as a BaseSSLError, Py3 raises it as socket timeout.\u001b[0m\u001b[0;34m\u001b[0m\u001b[0;34m\u001b[0m\u001b[0m\n",
      "\u001b[0;32m/Users/james/anaconda/lib/python2.7/site-packages/requests/packages/urllib3/connectionpool.pyc\u001b[0m in \u001b[0;36m_validate_conn\u001b[0;34m(self, conn)\u001b[0m\n\u001b[1;32m    782\u001b[0m         \u001b[0;31m# Force connect early to allow us to validate the connection.\u001b[0m\u001b[0;34m\u001b[0m\u001b[0;34m\u001b[0m\u001b[0m\n\u001b[1;32m    783\u001b[0m         \u001b[0;32mif\u001b[0m \u001b[0;32mnot\u001b[0m \u001b[0mgetattr\u001b[0m\u001b[0;34m(\u001b[0m\u001b[0mconn\u001b[0m\u001b[0;34m,\u001b[0m \u001b[0;34m'sock'\u001b[0m\u001b[0;34m,\u001b[0m \u001b[0mNone\u001b[0m\u001b[0;34m)\u001b[0m\u001b[0;34m:\u001b[0m  \u001b[0;31m# AppEngine might not have  `.sock`\u001b[0m\u001b[0;34m\u001b[0m\u001b[0m\n\u001b[0;32m--> 784\u001b[0;31m             \u001b[0mconn\u001b[0m\u001b[0;34m.\u001b[0m\u001b[0mconnect\u001b[0m\u001b[0;34m(\u001b[0m\u001b[0;34m)\u001b[0m\u001b[0;34m\u001b[0m\u001b[0m\n\u001b[0m\u001b[1;32m    785\u001b[0m \u001b[0;34m\u001b[0m\u001b[0m\n\u001b[1;32m    786\u001b[0m         \u001b[0;32mif\u001b[0m \u001b[0;32mnot\u001b[0m \u001b[0mconn\u001b[0m\u001b[0;34m.\u001b[0m\u001b[0mis_verified\u001b[0m\u001b[0;34m:\u001b[0m\u001b[0;34m\u001b[0m\u001b[0m\n",
      "\u001b[0;32m/Users/james/anaconda/lib/python2.7/site-packages/requests/packages/urllib3/connection.pyc\u001b[0m in \u001b[0;36mconnect\u001b[0;34m(self)\u001b[0m\n\u001b[1;32m    250\u001b[0m                                     \u001b[0mca_cert_dir\u001b[0m\u001b[0;34m=\u001b[0m\u001b[0mself\u001b[0m\u001b[0;34m.\u001b[0m\u001b[0mca_cert_dir\u001b[0m\u001b[0;34m,\u001b[0m\u001b[0;34m\u001b[0m\u001b[0m\n\u001b[1;32m    251\u001b[0m                                     \u001b[0mserver_hostname\u001b[0m\u001b[0;34m=\u001b[0m\u001b[0mhostname\u001b[0m\u001b[0;34m,\u001b[0m\u001b[0;34m\u001b[0m\u001b[0m\n\u001b[0;32m--> 252\u001b[0;31m                                     ssl_version=resolved_ssl_version)\n\u001b[0m\u001b[1;32m    253\u001b[0m \u001b[0;34m\u001b[0m\u001b[0m\n\u001b[1;32m    254\u001b[0m         \u001b[0;32mif\u001b[0m \u001b[0mself\u001b[0m\u001b[0;34m.\u001b[0m\u001b[0massert_fingerprint\u001b[0m\u001b[0;34m:\u001b[0m\u001b[0;34m\u001b[0m\u001b[0m\n",
      "\u001b[0;32m/Users/james/anaconda/lib/python2.7/site-packages/requests/packages/urllib3/util/ssl_.pyc\u001b[0m in \u001b[0;36mssl_wrap_socket\u001b[0;34m(sock, keyfile, certfile, cert_reqs, ca_certs, server_hostname, ssl_version, ciphers, ssl_context, ca_cert_dir)\u001b[0m\n\u001b[1;32m    303\u001b[0m         \u001b[0mcontext\u001b[0m\u001b[0;34m.\u001b[0m\u001b[0mload_cert_chain\u001b[0m\u001b[0;34m(\u001b[0m\u001b[0mcertfile\u001b[0m\u001b[0;34m,\u001b[0m \u001b[0mkeyfile\u001b[0m\u001b[0;34m)\u001b[0m\u001b[0;34m\u001b[0m\u001b[0m\n\u001b[1;32m    304\u001b[0m     \u001b[0;32mif\u001b[0m \u001b[0mHAS_SNI\u001b[0m\u001b[0;34m:\u001b[0m  \u001b[0;31m# Platform-specific: OpenSSL with enabled SNI\u001b[0m\u001b[0;34m\u001b[0m\u001b[0m\n\u001b[0;32m--> 305\u001b[0;31m         \u001b[0;32mreturn\u001b[0m \u001b[0mcontext\u001b[0m\u001b[0;34m.\u001b[0m\u001b[0mwrap_socket\u001b[0m\u001b[0;34m(\u001b[0m\u001b[0msock\u001b[0m\u001b[0;34m,\u001b[0m \u001b[0mserver_hostname\u001b[0m\u001b[0;34m=\u001b[0m\u001b[0mserver_hostname\u001b[0m\u001b[0;34m)\u001b[0m\u001b[0;34m\u001b[0m\u001b[0m\n\u001b[0m\u001b[1;32m    306\u001b[0m \u001b[0;34m\u001b[0m\u001b[0m\n\u001b[1;32m    307\u001b[0m     warnings.warn(\n",
      "\u001b[0;32m/Users/james/anaconda/lib/python2.7/ssl.pyc\u001b[0m in \u001b[0;36mwrap_socket\u001b[0;34m(self, sock, server_side, do_handshake_on_connect, suppress_ragged_eofs, server_hostname)\u001b[0m\n\u001b[1;32m    350\u001b[0m                          \u001b[0msuppress_ragged_eofs\u001b[0m\u001b[0;34m=\u001b[0m\u001b[0msuppress_ragged_eofs\u001b[0m\u001b[0;34m,\u001b[0m\u001b[0;34m\u001b[0m\u001b[0m\n\u001b[1;32m    351\u001b[0m                          \u001b[0mserver_hostname\u001b[0m\u001b[0;34m=\u001b[0m\u001b[0mserver_hostname\u001b[0m\u001b[0;34m,\u001b[0m\u001b[0;34m\u001b[0m\u001b[0m\n\u001b[0;32m--> 352\u001b[0;31m                          _context=self)\n\u001b[0m\u001b[1;32m    353\u001b[0m \u001b[0;34m\u001b[0m\u001b[0m\n\u001b[1;32m    354\u001b[0m     \u001b[0;32mdef\u001b[0m \u001b[0mset_npn_protocols\u001b[0m\u001b[0;34m(\u001b[0m\u001b[0mself\u001b[0m\u001b[0;34m,\u001b[0m \u001b[0mnpn_protocols\u001b[0m\u001b[0;34m)\u001b[0m\u001b[0;34m:\u001b[0m\u001b[0;34m\u001b[0m\u001b[0m\n",
      "\u001b[0;32m/Users/james/anaconda/lib/python2.7/ssl.pyc\u001b[0m in \u001b[0;36m__init__\u001b[0;34m(self, sock, keyfile, certfile, server_side, cert_reqs, ssl_version, ca_certs, do_handshake_on_connect, family, type, proto, fileno, suppress_ragged_eofs, npn_protocols, ciphers, server_hostname, _context)\u001b[0m\n\u001b[1;32m    577\u001b[0m                         \u001b[0;31m# non-blocking\u001b[0m\u001b[0;34m\u001b[0m\u001b[0;34m\u001b[0m\u001b[0m\n\u001b[1;32m    578\u001b[0m                         \u001b[0;32mraise\u001b[0m \u001b[0mValueError\u001b[0m\u001b[0;34m(\u001b[0m\u001b[0;34m\"do_handshake_on_connect should not be specified for non-blocking sockets\"\u001b[0m\u001b[0;34m)\u001b[0m\u001b[0;34m\u001b[0m\u001b[0m\n\u001b[0;32m--> 579\u001b[0;31m                     \u001b[0mself\u001b[0m\u001b[0;34m.\u001b[0m\u001b[0mdo_handshake\u001b[0m\u001b[0;34m(\u001b[0m\u001b[0;34m)\u001b[0m\u001b[0;34m\u001b[0m\u001b[0m\n\u001b[0m\u001b[1;32m    580\u001b[0m \u001b[0;34m\u001b[0m\u001b[0m\n\u001b[1;32m    581\u001b[0m             \u001b[0;32mexcept\u001b[0m \u001b[0;34m(\u001b[0m\u001b[0mOSError\u001b[0m\u001b[0;34m,\u001b[0m \u001b[0mValueError\u001b[0m\u001b[0;34m)\u001b[0m\u001b[0;34m:\u001b[0m\u001b[0;34m\u001b[0m\u001b[0m\n",
      "\u001b[0;32m/Users/james/anaconda/lib/python2.7/ssl.pyc\u001b[0m in \u001b[0;36mdo_handshake\u001b[0;34m(self, block)\u001b[0m\n\u001b[1;32m    806\u001b[0m             \u001b[0;32mif\u001b[0m \u001b[0mtimeout\u001b[0m \u001b[0;34m==\u001b[0m \u001b[0;36m0.0\u001b[0m \u001b[0;32mand\u001b[0m \u001b[0mblock\u001b[0m\u001b[0;34m:\u001b[0m\u001b[0;34m\u001b[0m\u001b[0m\n\u001b[1;32m    807\u001b[0m                 \u001b[0mself\u001b[0m\u001b[0;34m.\u001b[0m\u001b[0msettimeout\u001b[0m\u001b[0;34m(\u001b[0m\u001b[0mNone\u001b[0m\u001b[0;34m)\u001b[0m\u001b[0;34m\u001b[0m\u001b[0m\n\u001b[0;32m--> 808\u001b[0;31m             \u001b[0mself\u001b[0m\u001b[0;34m.\u001b[0m\u001b[0m_sslobj\u001b[0m\u001b[0;34m.\u001b[0m\u001b[0mdo_handshake\u001b[0m\u001b[0;34m(\u001b[0m\u001b[0;34m)\u001b[0m\u001b[0;34m\u001b[0m\u001b[0m\n\u001b[0m\u001b[1;32m    809\u001b[0m         \u001b[0;32mfinally\u001b[0m\u001b[0;34m:\u001b[0m\u001b[0;34m\u001b[0m\u001b[0m\n\u001b[1;32m    810\u001b[0m             \u001b[0mself\u001b[0m\u001b[0;34m.\u001b[0m\u001b[0msettimeout\u001b[0m\u001b[0;34m(\u001b[0m\u001b[0mtimeout\u001b[0m\u001b[0;34m)\u001b[0m\u001b[0;34m\u001b[0m\u001b[0m\n",
      "\u001b[0;31mKeyboardInterrupt\u001b[0m: "
     ]
    }
   ],
   "source": [
    "\n",
    "if __name__ == \"__main__\":\n",
    "# Let's select the years and journals we want to compare\n",
    "    years = (1993, 2013)\n",
    "    journals = [ # (Scraped from Wikipedia)\n",
    "    #    \"AIAA Journal\",\n",
    "        \"Astrobiology\",\n",
    "        \"Astronomical Journal\",\n",
    "        \"Astronomical Review\",\n",
    "    #    \"Astronomische Nachrichten\",\n",
    "        \"Astronomy and Astrophysics\",\n",
    "    #    \"Astronomy and Computing\",\n",
    "    #    \"Astronomy & Geophysics\",\n",
    "        \"Astronomy Letters\",\n",
    "        \"Astronomy Now\",\n",
    "        \"Astronomy Reports\",\n",
    "        \"Astroparticle Physics\",\n",
    "        \"The Astrophysical Journal\",\n",
    "    #    \"The Astrophysical Journal Letters\",\n",
    "        \"The Astrophysical Journal Supplement Series\",\n",
    "        \"Astrophysics and Space Science\",\n",
    "        \"Celestial Mechanics and Dynamical Astronomy\",\n",
    "        \"Classical and Quantum Gravity\",\n",
    "    #    \"Connaissance des Temps\",\n",
    "        \"Cosmic Research\",\n",
    "    #    \"Earth, Moon, and Planets\",\n",
    "        \"Earth and Planetary Science Letters\",\n",
    "        \"General Relativity and Gravitation\",\n",
    "        \"Geophysical Research Letters\",\n",
    "        \"Icarus\",\n",
    "        \"International Astronomical Union Circular\",\n",
    "        \"International Journal of Astrobiology\",\n",
    "        \"Journal of the British Interplanetary Society\",\n",
    "        \"Journal of Cosmology\",\n",
    "        \"Journal of Cosmology and Astroparticle Physics\",\n",
    "        \"Journal of Geophysical Research\",\n",
    "    #    \"Journal for the History of Astronomy\",\n",
    "    #    \"Journal of the Korean Astronomical Society\",\n",
    "    #    \"Journal of the Royal Astronomical Society of Canada\",\n",
    "    #    \"Meteoritics & Planetary Science\",\n",
    "        \"Monthly Notices of the Royal Astronomical Society\",\n",
    "    #    \"Nature Geoscience\",\n",
    "        \"New Astronomy\",\n",
    "        \"The Observatory\",\n",
    "        \"Planetary and Space Science\",\n",
    "    #    \"Publications of the Astronomical Society of Japan\",\n",
    "        \"Publications of the Astronomical Society of the Pacific\",\n",
    "        \"Solar Physics\",\n",
    "        \"Space Science Reviews\",\n",
    "        ]\n",
    "\n",
    "    publication_data = []\n",
    "    for journal in journals:\n",
    "\n",
    "        # Initiate the dictionary for this journal\n",
    "        journal_data = {\n",
    "            \"name\": journal,\n",
    "            \"articles\": [],\n",
    "            \"total\": 0\n",
    "        }\n",
    "\n",
    "        for year in range(years[0], years[1] + 1):\n",
    "            \n",
    "            # Perform the query\n",
    "            # We actually don't want all the results, we just want the metadata\n",
    "            # which tells us how many publications there were\n",
    "            q = ads.SearchQuery(q=\"pub:\\\"{journal}\\\" year:{year}\".format(journal=journal, year=year), fl=['id'], rows=1)\n",
    "            q.execute()\n",
    "\n",
    "            num = int(q.response.numFound)\n",
    "            print(\"{journal} had {num} publications in {year}\"\n",
    "                  .format(journal=journal, num=num, year=year))\n",
    "\n",
    "            # Save this data\n",
    "            journal_data[\"articles\"].append([year, num])\n",
    "            journal_data[\"total\"] += num\n",
    "\n",
    "        # Let's only save it if there were actually any publications\n",
    "        if journal_data[\"total\"] > 0:\n",
    "            publication_data.append(journal_data)\n",
    "\n",
    "    sorted_publication_data = []\n",
    "    totals = [journal[\"total\"] for journal in publication_data]\n",
    "    indices = sorted(range(len(totals)),key=totals.__getitem__)\n",
    "    for index in indices:\n",
    "        sorted_publication_data.append(publication_data[index])\n",
    "\n",
    "    # Save the data\n",
    "    with open('journal-publications.json', 'w') as fp:\n",
    "        json.dump(sorted_publication_data, fp, indent=2)"
   ]
  },
  {
   "cell_type": "code",
   "execution_count": 15,
   "metadata": {
    "collapsed": false
   },
   "outputs": [
    {
     "ename": "NameError",
     "evalue": "name 'affilly' is not defined",
     "output_type": "error",
     "traceback": [
      "\u001b[0;31m---------------------------------------------------------------------------\u001b[0m",
      "\u001b[0;31mNameError\u001b[0m                                 Traceback (most recent call last)",
      "\u001b[0;32m<ipython-input-15-737199a6f49d>\u001b[0m in \u001b[0;36m<module>\u001b[0;34m()\u001b[0m\n\u001b[1;32m     23\u001b[0m             \u001b[0;31m# We actually don't want all the results, we just want the metadata\u001b[0m\u001b[0;34m\u001b[0m\u001b[0;34m\u001b[0m\u001b[0m\n\u001b[1;32m     24\u001b[0m             \u001b[0;31m# which tells us how many publications there were\u001b[0m\u001b[0;34m\u001b[0m\u001b[0;34m\u001b[0m\u001b[0m\n\u001b[0;32m---> 25\u001b[0;31m             q = ads.SearchQuery(q=\"aff:\\\"School of Mathematics and Statistics, University of St Andrews\\\" year:\\\"{year}\\\" author:\\\"{person}\\\"\".format(affilly=affilly, year=year, person=person), \n\u001b[0m\u001b[1;32m     26\u001b[0m                                     fl=['id'], rows=1)\n\u001b[1;32m     27\u001b[0m             \u001b[0mq\u001b[0m\u001b[0;34m.\u001b[0m\u001b[0mexecute\u001b[0m\u001b[0;34m(\u001b[0m\u001b[0;34m)\u001b[0m\u001b[0;34m\u001b[0m\u001b[0m\n",
      "\u001b[0;31mNameError\u001b[0m: name 'affilly' is not defined"
     ]
    }
   ],
   "source": [
    "if __name__ == \"__main__\":\n",
    "# Let's select the years and journals we want to compare\n",
    "    years = (2015,2016)#(1993, 2013)\n",
    "    stafflist=[\"Hood, A. W.\", \"Archontis, V.\",\"De Moortel, I.\",\"Mackay, D. H.\",\"Neukirch, T.\",\"Parnell, C. E.\",\"Wright, A. N.\",\"Conlon, T. M.\",\n",
    "           \"Antolin, P.\", \"Pagano, P.\",\"Threlfall, J.\",\"Wilson, F.\", \"Haynes, A. L.\", \"Brooks, S.\", \"Fruchtl, H.\",\n",
    "           \"MacFarlane, F.\", \"Stevenson, J. E. H.\", \"Elsden, T.\", \"Hodgson, J. D. B.\",\"Lee, E. J.\", \"O'Hara, J.\", \"Allanson, O.\", \n",
    "           \"Sturrock, Z.\", \"Borissov, A.\",\"Johnston, C.\",\"Williams, B. M.\",\"Goldstraw, E.\",\"Howson, T.\", \"Priest, E. R.\",\n",
    "           \"Cargill, P. J.\",\"Roberts, B.\"]\n",
    " \n",
    "    publication_data = []\n",
    "    for person in stafflist:\n",
    "\n",
    "        # Initiate the dictionary for this journal\n",
    "        staff_data = {\n",
    "            \"name\": person,\n",
    "            \"articles\": [],\n",
    "            \"total\": 0\n",
    "        }\n",
    "\n",
    "        for year in range(years[0], years[1] + 1):\n",
    "            \n",
    "            # Perform the query\n",
    "            # We actually don't want all the results, we just want the metadata\n",
    "            # which tells us how many publications there were\n",
    "            q = ads.SearchQuery(q=\"aff:\\\"School of Mathematics and Statistics, University of St Andrews\\\" year:\\\"{year}\\\" author:\\\"{person}\\\"\".format(affilly=affilly, year=year, person=person), \n",
    "                                    fl=['id'], rows=1)\n",
    "            q.execute()\n",
    "\n",
    "            num = int(q.response.numFound)\n",
    "            print(\"{person} had {num} publications in {year}\"\n",
    "                  .format(person=person, num=num, year=year))\n",
    "\n",
    "            # Save this data\n",
    "            staff_data[\"articles\"].append([year, num])\n",
    "            staff_data[\"total\"] += num\n",
    "    \n",
    "\n",
    "        # Let's only save it if there were actually any publications\n",
    "        if staff_data[\"total\"] > 0:\n",
    "            publication_data.append(staff_data)\n",
    "\n",
    "    sorted_publication_data = []\n",
    "    totals = [person[\"total\"] for person in publication_data]\n",
    "    indices = sorted(range(len(totals)),key=totals.__getitem__)\n",
    "    for index in indices:\n",
    "        sorted_publication_data.append(publication_data[index])\n"
   ]
  },
  {
   "cell_type": "code",
   "execution_count": 433,
   "metadata": {
    "collapsed": false
   },
   "outputs": [
    {
     "name": "stdout",
     "output_type": "stream",
     "text": [
      "Querying Year/Month 2016 / 4\n",
      "Elsden, T.\n"
     ]
    }
   ],
   "source": [
    "now = localtime()\n",
    "year, month = (now.tm_year, now.tm_mon - 1)\n",
    "if 1 > month: year, month = (year - 1, month)\n",
    "print('Querying Year/Month {0} / {1}'.format(year, month))\n",
    "\n",
    "    # Retrieve all the articles published last month.\n",
    "paoloarticles = ads.SearchQuery(\n",
    "    q='author:\\\"Elsden, T.\\\" aff:\\\"University of St Andrews\\\" '\\\n",
    "    'property:refereed pubdate:2015',\n",
    "    fl=['id', 'first_author', 'year', 'title','bibcode', 'identifier','doi', 'author'],\n",
    "    sort='read_count desc')\n",
    "\n",
    "firstauthors = [paper.first_author for paper in paoloarticles ]\n",
    "for each in firstauthors:\n",
    "        first_author=each.encode('utf-8')\n",
    "        print(first_author)"
   ]
  },
  {
   "cell_type": "code",
   "execution_count": 237,
   "metadata": {
    "collapsed": true
   },
   "outputs": [],
   "source": [
    "for author in authors:\n",
    "    print(u\" \".join(author))"
   ]
  },
  {
   "cell_type": "code",
   "execution_count": null,
   "metadata": {
    "collapsed": false
   },
   "outputs": [],
   "source": [
    " papers = list(ads.SearchQuery(q='aff=\"*St Andrews*\" first_author=\"Threlfall, J.\"'))"
   ]
  },
  {
   "cell_type": "code",
   "execution_count": null,
   "metadata": {
    "collapsed": true
   },
   "outputs": [],
   "source": [
    "print(papers)"
   ]
  },
  {
   "cell_type": "code",
   "execution_count": 376,
   "metadata": {
    "collapsed": true
   },
   "outputs": [],
   "source": [
    "for paper in papers:\n",
    "    print(paper.author)\n"
   ]
  },
  {
   "cell_type": "code",
   "execution_count": 377,
   "metadata": {
    "collapsed": false
   },
   "outputs": [],
   "source": [
    "for paper in papers:\n",
    "    print(paper.first_author)\n",
    "    print(paper.citation_count)\n",
    "    "
   ]
  },
  {
   "cell_type": "code",
   "execution_count": null,
   "metadata": {
    "collapsed": false
   },
   "outputs": [],
   "source": []
  },
  {
   "cell_type": "code",
   "execution_count": 139,
   "metadata": {
    "collapsed": false
   },
   "outputs": [
    {
     "name": "stdout",
     "output_type": "stream",
     "text": [
      "<table>\n",
      "<ads.search.SearchQuery object at 0x1075b3890>\n",
      "</table>\n"
     ]
    }
   ],
   "source": [
    "print_table(articles)"
   ]
  },
  {
   "cell_type": "code",
   "execution_count": 140,
   "metadata": {
    "collapsed": false
   },
   "outputs": [
    {
     "data": {
      "text/plain": [
       "ads.search.SearchQuery"
      ]
     },
     "execution_count": 140,
     "metadata": {},
     "output_type": "execute_result"
    }
   ],
   "source": [
    "type(articles)"
   ]
  },
  {
   "cell_type": "code",
   "execution_count": 382,
   "metadata": {
    "collapsed": false
   },
   "outputs": [
    {
     "name": "stdout",
     "output_type": "stream",
     "text": [
      "Perdew, John P.\n",
      "Kohn, W.\n",
      "Kresse, G.\n",
      "Hohenberg, P.\n",
      "Lee, Chengteh\n",
      "Becke, Axel D.\n",
      "Monkhorst, Hendrik J.\n",
      "Blรถchl, P. E.\n",
      "Kresse, G.\n",
      "Press, William H.\n",
      "Novoselov, K. S.\n",
      "Schlegel, David J.\n",
      "Perlmutter, S.\n",
      "Perdew, J. P.\n",
      "Riess, Adam G.\n",
      "Dunning, Thom H., Jr.\n",
      "Kresse, G.\n",
      "Spergel, D. N.\n",
      "Iijima, Sumio\n",
      "Becke, A. D.\n",
      "Maldacena, Juan M.\n",
      "Vanderbilt, David\n",
      "Shannon, R. D.\n",
      "Witten, Edward\n",
      "Shakura, N. I.\n",
      "Perdew, John P.\n",
      "Ceperley, D. M.\n",
      "Metropolis, Nicholas\n",
      "Anders, Edward\n",
      "Troullier, N.\n",
      "Castro Neto, A. H.\n",
      "Perdew, John P.\n",
      "Kalnay, E.\n",
      "Geim, A. K.\n",
      "Bednorz, J. G.\n",
      "Novoselov, K. S.\n",
      "Gubser, S. S.\n",
      "Spergel, D. N.\n",
      "Cardelli, Jason A.\n",
      "Fano, U.\n",
      "Randall, Lisa\n",
      "Bennett, Charles H.\n",
      "Agostinelli, S.\n",
      "Kosterlitz, J. M.\n",
      "Komatsu, E.\n",
      "Misner, Charles W.\n",
      "Bardeen, J.\n",
      "Einstein, A.\n",
      "Guth, Alan H.\n",
      "Yablonovitch, Eli\n"
     ]
    }
   ],
   "source": [
    "most_cited_papers = ads.SearchQuery(\n",
    "    q='*',\n",
    "    sort='citation_count desc',\n",
    "    fq='database:(\"astronomy\" OR \"physics\")',\n",
    "    rows=50,\n",
    "    fl=['first_author','bibcode']\n",
    ")\n",
    "\n",
    "# Who are these successful people, anyways?\n",
    "successful_astronomers = [paper.first_author for paper in most_cited_papers]\n",
    "for astronomer in successful_astronomers:\n",
    "        first_author=astronomer.encode('utf-8')\n",
    "        print(first_author)\n"
   ]
  },
  {
   "cell_type": "code",
   "execution_count": 378,
   "metadata": {
    "collapsed": false
   },
   "outputs": [
    {
     "name": "stdout",
     "output_type": "stream",
     "text": [
      "Press, William H.\n",
      "Schlegel, David J.\n",
      "Perlmutter, S.\n",
      "Riess, Adam G.\n",
      "Perdew, J. P.\n",
      "Spergel, D. N.\n",
      "Shakura, N. I.\n",
      "Anders, Edward\n",
      "Novoselov, K. S.\n",
      "Spergel, D. N.\n",
      "Cardelli, Jason A.\n",
      "Randall, Lisa\n",
      "Komatsu, E.\n",
      "Misner, Charles W.\n",
      "Guth, Alan H.\n",
      "Navarro, Julio F.\n",
      "Hawking, S. W.\n",
      "Bertin, E.\n",
      "York, Donald G.\n",
      "Sze, S. M.\n",
      "Weinberg, Steven\n",
      "Salpeter, Edwin E.\n",
      "Randall, Lisa\n",
      "Skrutskie, M. F.\n",
      "Binney, James\n",
      "Bruzual, G.\n",
      "Abramowitz, Milton\n",
      "Dziewonski, Adam M.\n",
      "Allen, C. W.\n",
      "Abramowitz, M.\n",
      "Komatsu, E.\n",
      "Yao, W. -M.\n",
      "Gradshteyn, I. S.\n",
      "Navarro, Julio F.\n",
      "Chandrasekhar, S.\n",
      "Jackson, John David\n",
      "Planck Collaboration\n",
      "Landolt, Arlo U.\n",
      "Stetson, Peter B.\n",
      "Lorenz, Edward N.\n",
      "Peebles, Phillip James Edwin\n",
      "Press, William H.\n",
      "Cross, M. C.\n",
      "Kroto, H. W.\n",
      "Bennett, C. L.\n",
      "Herzberg, Gerhard\n",
      "Kennicutt, Robert C., Jr.\n",
      "Morse, Philip M.\n",
      "Particle Data Group\n",
      "Hawking, S. W.\n"
     ]
    }
   ],
   "source": [
    "type(successful_astronomers)\n"
   ]
  },
  {
   "cell_type": "code",
   "execution_count": 166,
   "metadata": {
    "collapsed": true
   },
   "outputs": [],
   "source": [
    "type(successful_bibcodes)\n",
    "for bib in successful_bibcodes:\n",
    "        authors=bib.encode('utf-8')\n",
    "        print(authors)"
   ]
  },
  {
   "cell_type": "code",
   "execution_count": 165,
   "metadata": {
    "collapsed": false
   },
   "outputs": [
    {
     "data": {
      "text/plain": [
       "ads.search.SearchQuery"
      ]
     },
     "execution_count": 165,
     "metadata": {},
     "output_type": "execute_result"
    }
   ],
   "source": [
    "type(most_cited_papers)"
   ]
  },
  {
   "cell_type": "code",
   "execution_count": 169,
   "metadata": {
    "collapsed": true
   },
   "outputs": [],
   "source": [
    "for paper in most_cited_papers:\n",
    "    print(paper.first_author)"
   ]
  },
  {
   "cell_type": "code",
   "execution_count": 250,
   "metadata": {
    "collapsed": true
   },
   "outputs": [],
   "source": [
    "EmployeeList =  [u'1001', u'Karick', u'14-12-2020', u'1$']"
   ]
  },
  {
   "cell_type": "code",
   "execution_count": 254,
   "metadata": {
    "collapsed": false
   },
   "outputs": [
    {
     "name": "stdout",
     "output_type": "stream",
     "text": [
      "hello\n"
     ]
    }
   ],
   "source": [
    "if '1001' in EmployeeList:\n",
    "    print('hello')"
   ]
  },
  {
   "cell_type": "code",
   "execution_count": 256,
   "metadata": {
    "collapsed": false
   },
   "outputs": [],
   "source": [
    "if \"Cameron, A.\" in stafflist:\n",
    "    print('he\\'s there')"
   ]
  },
  {
   "cell_type": "code",
   "execution_count": 434,
   "metadata": {
    "collapsed": true
   },
   "outputs": [],
   "source": [
    "def add_book(section, book, lib):\n",
    "    if book in lib[section]:\n",
    "        return \"Already added {}\".format(book)\n",
    "    library[section].add(book)\n",
    "\n",
    "def lookup(section, book, lib):\n",
    "    try:\n",
    "        if book in lib[section]:\n",
    "            return \"Already added\"\n",
    "    except KeyError:\n",
    "        return \"Invalid section {}\".format(section)\n",
    "    library[section].add(book)\n",
    "\n",
    "    \n",
    "library = {'Whiterun':{'Book of Riddles', 'Dragonborn'}, \n",
    "           'Markarth': {'Dwemer History'}, \n",
    "           'Lakeview': {'Nightingales', 'Werewolves'} }\n"
   ]
  },
  {
   "cell_type": "code",
   "execution_count": 435,
   "metadata": {
    "collapsed": false
   },
   "outputs": [
    {
     "data": {
      "text/plain": [
       "'Already added Dragonborn'"
      ]
     },
     "execution_count": 435,
     "metadata": {},
     "output_type": "execute_result"
    }
   ],
   "source": [
    "add_book('Whiterun', 'Dragonborn', library)"
   ]
  },
  {
   "cell_type": "code",
   "execution_count": 436,
   "metadata": {
    "collapsed": false
   },
   "outputs": [
    {
     "data": {
      "text/plain": [
       "{'Book of Riddles', 'Dragonborn'}"
      ]
     },
     "execution_count": 436,
     "metadata": {},
     "output_type": "execute_result"
    }
   ],
   "source": [
    "library['Whiterun']"
   ]
  },
  {
   "cell_type": "code",
   "execution_count": 10,
   "metadata": {
    "collapsed": false
   },
   "outputs": [
    {
     "data": {
      "text/plain": [
       "'my OR name OR is OR jeff OR pigeon'"
      ]
     },
     "execution_count": 10,
     "metadata": {},
     "output_type": "execute_result"
    }
   ],
   "source": [
    "x = [\"my\",\"name\",\"is\",\"jeff\",\"pigeon\"]\n",
    "' OR '.join(x)"
   ]
  },
  {
   "cell_type": "code",
   "execution_count": 20,
   "metadata": {
    "collapsed": false
   },
   "outputs": [
    {
     "data": {
      "text/plain": [
       "'\"my\" OR \"name\" OR \"is\" OR \"jeff\" OR \"pigeon\"'"
      ]
     },
     "execution_count": 20,
     "metadata": {},
     "output_type": "execute_result"
    }
   ],
   "source": [
    "(' OR '.join('\"' + item + '\"' for item in x))"
   ]
  },
  {
   "cell_type": "code",
   "execution_count": 56,
   "metadata": {
    "collapsed": true
   },
   "outputs": [],
   "source": [
    "xx=[\"jeff banks\", \"kevin mccloud\"]"
   ]
  },
  {
   "cell_type": "code",
   "execution_count": 59,
   "metadata": {
    "collapsed": false
   },
   "outputs": [
    {
     "ename": "SyntaxError",
     "evalue": "invalid syntax (<ipython-input-59-412d7dbd36a5>, line 1)",
     "output_type": "error",
     "traceback": [
      "\u001b[0;36m  File \u001b[0;32m\"<ipython-input-59-412d7dbd36a5>\"\u001b[0;36m, line \u001b[0;32m1\u001b[0m\n\u001b[0;31m    xx[0].()\u001b[0m\n\u001b[0m          ^\u001b[0m\n\u001b[0;31mSyntaxError\u001b[0m\u001b[0;31m:\u001b[0m invalid syntax\n"
     ]
    }
   ],
   "source": [
    "xx[0].()"
   ]
  },
  {
   "cell_type": "code",
   "execution_count": 61,
   "metadata": {
    "collapsed": false
   },
   "outputs": [
    {
     "name": "stdout",
     "output_type": "stream",
     "text": [
      " bob smith\n",
      " bill jones\n",
      " john doe\n"
     ]
    }
   ],
   "source": [
    "s = 'smith, bob;jones, bill;doe, john'\n",
    "for lname, fname in [q.split(\",\") for q in s.split(\";\")]:\n",
    "    print(fname, lname)"
   ]
  },
  {
   "cell_type": "code",
   "execution_count": 1,
   "metadata": {
    "collapsed": true
   },
   "outputs": [],
   "source": [
    "nom=\"alan j. hood\""
   ]
  },
  {
   "cell_type": "code",
   "execution_count": 2,
   "metadata": {
    "collapsed": false
   },
   "outputs": [
    {
     "data": {
      "text/plain": [
       "'hood, j., alan'"
      ]
     },
     "execution_count": 2,
     "metadata": {},
     "output_type": "execute_result"
    }
   ],
   "source": [
    "', '.join(nom.split(' ')[::-1])"
   ]
  },
  {
   "cell_type": "code",
   "execution_count": 5,
   "metadata": {
    "collapsed": false
   },
   "outputs": [
    {
     "name": "stdout",
     "output_type": "stream",
     "text": [
      "['alan', 'j.', 'hood']\n",
      "3\n"
     ]
    }
   ],
   "source": [
    "print(nom.split())\n",
    "print(len(nom.split()))"
   ]
  },
  {
   "cell_type": "code",
   "execution_count": 9,
   "metadata": {
    "collapsed": false
   },
   "outputs": [
    {
     "name": "stdout",
     "output_type": "stream",
     "text": [
      "hood, j., alan\n"
     ]
    }
   ],
   "source": [
    "if len(nom.split()) == 3:\n",
    "    altnom=''.join(nom.split(' ')[2:3])+', '+' '.join(nom.split(' ')[0:2])\n",
    "else:\n",
    "    altnom=', '.join(nom.split(' ')[::-1])\n",
    "    \n",
    "print(altnom)"
   ]
  },
  {
   "cell_type": "code",
   "execution_count": 24,
   "metadata": {
    "collapsed": false
   },
   "outputs": [
    {
     "data": {
      "text/plain": [
       "'alan j.'"
      ]
     },
     "execution_count": 24,
     "metadata": {},
     "output_type": "execute_result"
    }
   ],
   "source": [
    "' '.join(nom.split(' ')[0:2])"
   ]
  },
  {
   "cell_type": "code",
   "execution_count": 33,
   "metadata": {
    "collapsed": false
   },
   "outputs": [
    {
     "name": "stdout",
     "output_type": "stream",
     "text": [
      "hood, alan j.\n"
     ]
    }
   ],
   "source": [
    "print(''.join(nom.split(' ')[2:3])+', '+' '.join(nom.split(' ')[0:2]))\n"
   ]
  },
  {
   "cell_type": "code",
   "execution_count": null,
   "metadata": {
    "collapsed": true
   },
   "outputs": [],
   "source": []
  }
 ],
 "metadata": {
  "kernelspec": {
   "display_name": "Python 2",
   "language": "python",
   "name": "python2"
  },
  "language_info": {
   "codemirror_mode": {
    "name": "ipython",
    "version": 2
   },
   "file_extension": ".py",
   "mimetype": "text/x-python",
   "name": "python",
   "nbconvert_exporter": "python",
   "pygments_lexer": "ipython2",
   "version": "2.7.11"
  }
 },
 "nbformat": 4,
 "nbformat_minor": 0
}
