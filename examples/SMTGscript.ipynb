{
 "cells": [
  {
   "cell_type": "code",
   "execution_count": 1,
   "metadata": {
    "collapsed": true
   },
   "outputs": [],
   "source": [
    "from __future__ import print_function, division"
   ]
  },
  {
   "cell_type": "code",
   "execution_count": 2,
   "metadata": {
    "collapsed": true
   },
   "outputs": [],
   "source": [
    "import ads\n",
    "import sys\n",
    "import numpy\n",
    "import unicodedata\n",
    "from StringIO import StringIO\n",
    "from time import localtime"
   ]
  },
  {
   "cell_type": "code",
   "execution_count": 3,
   "metadata": {
    "collapsed": true
   },
   "outputs": [],
   "source": [
    "ads.config.token = 'zmmgkG86fM0hBeBjoOJicrr5GegJWe69vJ5ULDNd'"
   ]
  },
  {
   "cell_type": "markdown",
   "metadata": {},
   "source": [
    "origstafflist=[\"Hood, A. W.\", \"Archontis, V.\",\"De Moortel, I.\",\"Mackay, D. H.\",\"Neukirch, T.\",\n",
    "           \"Parnell, C. E.\",\"Wright, A. N.\",\"Conlon, T. M.\",\"Antolin, P.\", \"Pagano, P.\",\n",
    "           \"Threlfall, J.\",\"Wilson, F.\", \"Haynes, A. L.\", \"Brooks, S.\", \"Fruchtl, H.\",\n",
    "           \"MacFarlane, F.\", \"Stevenson, J. E. H.\", \"Elsden, T.\", \"Hodgson, J. D. B.\",\"Lee, E. J.\", \n",
    "           \"O'Hara, J.\", \"Allanson, O.\", \"Sturrock, Z.\", \"Borissov, A.\",\"Johnston, C. D. J.\",\n",
    "           \"Williams, B. M.\",\"Goldstraw, E.\",\"Howson, T.\", \"Priest, E. R.\",\n",
    "           \"Cargill, P. J.\",\"Roberts, B.\"]"
   ]
  },
  {
   "cell_type": "code",
   "execution_count": 4,
   "metadata": {
    "collapsed": false
   },
   "outputs": [],
   "source": [
    "def load(fname):\n",
    "    ''' load the file using std open'''\n",
    "    f = open(fname,'r')\n",
    "\n",
    "    data = []\n",
    "    for line in f.readlines():\n",
    "        data.append(line.replace('\\n','').split(','))\n",
    "\n",
    "    f.close()\n",
    "\n",
    "    return data"
   ]
  },
  {
   "cell_type": "code",
   "execution_count": 5,
   "metadata": {
    "collapsed": true
   },
   "outputs": [],
   "source": [
    "def compareauthor(name):\n",
    "    '''compare author with SMTG grp members and return link if matched'''    \n",
    "    assert type(name) == unicode, 'name must be unicode string'\n",
    "    \n",
    "    staff = load('/Users/james/Public/smtg/staff_current.txt')\n",
    "    found=0\n",
    "    for people in staff:\n",
    "        nom=','.join(people[2:4])[2:-1]\n",
    "        if  nom == name.encode(\"utf-8\"):\n",
    "            #print('FOUND'),\n",
    "            found=1\n",
    "            jsthing=''.join(people[7:])\n",
    "            #print(jsthing[1:]),\n",
    "            linktoreturn = '<a href={0}>{1}</a>'.format(jsthing[1:],name)\n",
    "            type(linktoreturn)\n",
    "            #print(linktoreturn),\n",
    "            #linktoreturn=\"<a href=\\\"\"+''.join(people[7:])+\">\"\n",
    "            #linktoreturn=linktoreturn+name+\"</a>\"\n",
    "\n",
    "    if found == 0:\n",
    "        linktoreturn=name\n",
    "    \n",
    "    linktoreturn=u'{0}; '.format(linktoreturn)\n",
    "            \n",
    "    return linktoreturn"
   ]
  },
  {
   "cell_type": "markdown",
   "metadata": {},
   "source": [
    "def old_print_table(query, filename):\n",
    "\n",
    "    target = open(filename, 'w')\n",
    "    target.truncate()\n",
    "    \n",
    "    pretty_author_name = lambda author: author.split(\",\")[0] + author.split(\",\")[1].strip()[1] + \".\"\n",
    "    my_string = '' \n",
    "    target.write('<table>')\n",
    "    target.write(\"\\n\")\n",
    "    #print('<table>')\n",
    "    for paper in query:\n",
    "        authors=paper.author\n",
    "        title=paper.title\n",
    "        target.write('<tr><td>')\n",
    "        target.write(\"\\n\")\n",
    "        #print ('<tr><td>')\n",
    "        for author in authors:\n",
    "            temp=compareauthor(name=author.encode('utf-8'))\n",
    "            target.write(temp)\n",
    "            target.write(\"\\n\")\n",
    "            #print(temp, end=\"\"),\n",
    "        \n",
    "        target.write('</td><td>')\n",
    "        #target.write(my_string.join(title))\n",
    "        target.write(' '.join(title).encode('utf-8'))\n",
    "        target.write('</td></tr>')\n",
    "        target.write(\"\\n\")\n",
    "        #print('</td><td>')\n",
    "        #print(my_string.join(title), end=\"\"),\n",
    "        #print('</td></tr>')\n",
    "    \n",
    "    target.write('</table>')\n",
    "    target.close()\n",
    "    #print('</table>')"
   ]
  },
  {
   "cell_type": "markdown",
   "metadata": {},
   "source": [
    "now = localtime()\n",
    "year, month = (now.tm_year, now.tm_mon - 1)\n",
    "if 1 > month: year, month = (year - 1, month)\n",
    "print('Querying Year/Month {0} (in month {1})'.format(year, month)),\n",
    "print(),\n",
    "\n",
    "    # Retrieve all the articles published last month.\n",
    "articles = ads.SearchQuery( q='aff:(\\\"University of St Andrews\\\") \\\n",
    "    property:refereed pubdate:{0} database:(\"astronomy\" OR \"physics\")'.format(year),\n",
    "    fl=['id', 'first_author', 'year', 'bibcode', 'identifier', 'author','title'],\n",
    "    sort='read_count desc')\n",
    "\n",
    "\n",
    "print_table(articles,'test.html')"
   ]
  },
  {
   "cell_type": "code",
   "execution_count": 6,
   "metadata": {
    "collapsed": false
   },
   "outputs": [],
   "source": [
    "def write_table(tlist,alist, filename):\n",
    "    '''output simple html table containing list of recent SMTG pubs and authors'''\n",
    "    assert type(tlist) == list, 'titlelist must be list of titles'\n",
    "    assert type(alist) == list, 'authorlist must be list of authors'\n",
    "    assert len(tlist) == len(alist), 'author and title list must be same length'\n",
    "    assert type(filename) == str, 'name must be string'\n",
    "    \n",
    "    target = open(filename, 'w')\n",
    "    target.truncate()\n",
    "    \n",
    "    #pretty_author_name = lambda author: author.split(\",\")[0] + author.split(\",\")[1].strip()[1] + \".\"\n",
    "    my_string = '' \n",
    "    target.write('<HTML><head></head><body>')\n",
    "    target.write('<table>')\n",
    "    target.write(\"\\n\")\n",
    "    for title, authors in zip(tlist, alist):    \n",
    "    #for paper in titlelist:\n",
    "        target.write('<tr><td>')\n",
    "        target.write(\"\\n\")\n",
    "        for author in authors:\n",
    "            temp=compareauthor(name=author)\n",
    "            target.write(temp.encode('ascii', 'xmlcharrefreplace'))\n",
    "            target.write(\"\\n\")\n",
    "    \n",
    "        target.write('</td><td>')\n",
    "        #target.write(my_string.join(title))\n",
    "        target.write(' '.join(title).encode('ascii', 'xmlcharrefreplace'))\n",
    "        target.write('</td></tr>')\n",
    "        target.write(\"\\n\")\n",
    "    \n",
    "    target.write('</table></body></HTML>')\n",
    "    target.close()"
   ]
  },
  {
   "cell_type": "code",
   "execution_count": 7,
   "metadata": {
    "collapsed": false
   },
   "outputs": [
    {
     "name": "stdout",
     "output_type": "stream",
     "text": [
      "Querying Year/Month 2016 (in month 4)\n",
      "\n",
      "Hood, A. W. had 3 publications in 2016\n",
      "Archontis, V. had 0 publications in 2016\n",
      "De Moortel, I. had 2 publications in 2016\n",
      "Mackay, D. H. had 2 publications in 2016\n",
      "Neukirch, T. had 4 publications in 2016\n",
      "Parnell, C. E. had 3 publications in 2016\n",
      "Wright, A. N. had 2 publications in 2016\n",
      "Conlon, T. M. had 0 publications in 2016\n",
      "Antolin, P. had 1 publications in 2016\n",
      "Pagano, P. had 0 publications in 2016\n",
      "Threlfall, J. had 2 publications in 2016\n",
      "Wilson, F. had 1 publications in 2016\n",
      "Haynes, A. L. had 0 publications in 2016\n",
      "Brooks, S. had 0 publications in 2016\n",
      "Fruchtl, H. had 0 publications in 2016\n",
      "MacFarlane, F. had 0 publications in 2016\n",
      "Stevenson, J. had 1 publications in 2016\n",
      "Elsden, T. had 0 publications in 2016\n",
      "Hodgson, J. had 0 publications in 2016\n",
      "Lee, E. J. had 0 publications in 2016\n",
      "O'Hara, J. had 0 publications in 2016\n",
      "Allanson, O. had 0 publications in 2016\n",
      "Sturrock, Z. had 0 publications in 2016\n",
      "Borissov, A. had 0 publications in 2016\n",
      "Johnston, C. had 0 publications in 2016\n",
      "Williams, B. had 0 publications in 2016\n",
      "Goldstraw, E. had 0 publications in 2016\n",
      "Howson, T. had 0 publications in 2016\n",
      "Priest, E. R. had 0 publications in 2016\n",
      "Cargill, P. J. had 2 publications in 2016\n",
      "Roberts, B. had 0 publications in 2016\n"
     ]
    },
    {
     "name": "stderr",
     "output_type": "stream",
     "text": [
      "/Users/james/anaconda/lib/python2.7/site-packages/ads/utils.py:23: UserWarning: You are lazy loading attributes via 'title', and so are making multiple calls to the API. This will impact your overall rate limits.\n",
      "  UserWarning,\n",
      "/Users/james/anaconda/lib/python2.7/site-packages/ads/utils.py:23: UserWarning: You are lazy loading attributes via 'author', and so are making multiple calls to the API. This will impact your overall rate limits.\n",
      "  UserWarning,\n"
     ]
    }
   ],
   "source": [
    "#what if we loop over authors and store info?\n",
    "now = localtime()\n",
    "year, month = (now.tm_year, now.tm_mon - 1)\n",
    "if 1 > month: year, month = (year - 1, month)\n",
    "print('Querying Year/Month {0} (in month {1})'.format(year, month)),\n",
    "print(),\n",
    "\n",
    "staff = load('/Users/james/Public/smtg/staff_current.txt')\n",
    "\n",
    "authlist=[]\n",
    "titlelist=[]\n",
    "\n",
    "for person in staff:\n",
    "    eachname=','.join(person[2:4])[2:-1]\n",
    "\n",
    "    # Retrieve all the articles published last month.\n",
    "    query = ads.SearchQuery( q='author:\\\"{0}\\\" pubdate:{1} \\\n",
    "    aff:(\\\"University of St Andrews\\\") property:refereed  \\\n",
    "    database:(\"astronomy\" OR \"physics\")'.format(eachname, year),\n",
    "    #fl=['id', 'first_author', 'year', 'bibcode', 'identifier', 'author','title'],\n",
    "    fl=['author','title'])\n",
    "\n",
    "    query.execute()\n",
    "    num = int(query.response.numFound)\n",
    "    print(\"{person} had {num} publications in {year}\".format(person=eachname, num=num, year=year))\n",
    "  \n",
    "    #staff_data[\"articles\"].append([year, num])\n",
    "    #staff_data[\"total\"] += num\n",
    "    #type(articles)\n",
    "    if num > 0:\n",
    "        for n in query:\n",
    "            #print(n.title)\n",
    "            if n.title not in titlelist:\n",
    "                titlelist.append(n.title)\n",
    "                authlist.append(n.author)\n",
    "            #else:\n",
    "                #print('matched publication, ignoring..')\n",
    "\n",
    "    #staff_data[\"titles\"].append([])\n",
    "write_table(tlist=titlelist,alist=authlist,filename='test.html')    \n",
    "#print_table(articles,'test.html')"
   ]
  },
  {
   "cell_type": "code",
   "execution_count": 8,
   "metadata": {
    "collapsed": false
   },
   "outputs": [
    {
     "name": "stdout",
     "output_type": "stream",
     "text": [
      "[[u'De Moortel, I.', u'Pascoe, D. J.', u'Wright, A. N.', u'Hood, A. W.'], [u'Hood, A. W.', u'Cargill, P. J.', u'Browning, P. K.', u'Tam, K. V.'], [u'Bareford, M. R.', u'Gordovskyy, M.', u'Browning, P. K.', u'Hood, A. W.'], [u'Cargill, P. J.', u'De Moortel, I.', u'Kiddie, G.'], [u'Gibb, G. P. S.', u'Mackay, D. H.', u'Jardine, M. M.', u'Yeates, A. R.'], [u'Jess, David B.', u'Reznikova, Veronika E.', u'Ryans, Robert S. I.', u'Christian, Damian J.', u'Keys, Peter H.', u'Mathioudakis, Mihalis', u'Mackay, Duncan H.', u'Krishna Prasad, S.', u'Banerjee, Dipankar', u'Grant, Samuel D. T.', u'Yau, Sean', u'Diamond, Conor'], [u'Wilson, F.', u'Neukirch, T.', u'Hesse, M.', u'Harrison, M. G.', u'Stark, C. R.'], [u'Threlfall, J.', u'Stevenson, J. E. H.', u'Parnell, C. E.', u'Neukirch, T.'], [u'Threlfall, J.', u'Bourdin, Ph. -A.', u'Neukirch, T.', u'Parnell, C. E.'], [u'MacTaggart, D.', u'Gregory, S. G.', u'Neukirch, T.', u'Donati, J. -F.'], [u'Edwards, S. J.', u'Parnell, C. E.', u'Harra, L. K.', u'Culhane, J. L.', u'Brooks, D. H.'], [u'Terradas, J.', u'Soler, R.', u'Luna, M.', u'Oliver, R.', u'Ballester, J. L.', u'Wright, A. N.'], [u'Wedemeyer, S.', u'Bastian, T.', u'Braj\\u0161a, R.', u'Hudson, H.', u'Fleishman, G.', u'Loukitcheva, M.', u'Fleck, B.', u'Kontar, E. P.', u'De Pontieu, B.', u'Yagoubov, P.', u'Tiwari, S. K.', u'Soler, R.', u'Black, J. H.', u'Antolin, P.', u'Scullion, E.', u'Gun\\xe1r, S.', u'Labrosse, N.', u'Ludwig, H. -G.', u'Benz, A. O.', u'White, S. M.', u'Hauschildt, P.', u'Doyle, J. G.', u'Nakariakov, V. M.', u'Ayres, T.', u'Heinzel, P.', u'Karlicky, M.', u'Van Doorsselaere, T.', u'Gary, D.', u'Alissandrakis, C. E.', u'Nindos, A.', u'Solanki, S. K.', u'Rouppe van der Voort, L.', u'Shimojo, M.', u'Kato, Y.', u'Zaqarashvili, T.', u'Perez, E.', u'Selhorst, C. L.', u'Barta, M.']]\n"
     ]
    }
   ],
   "source": [
    "print(authlist)"
   ]
  },
  {
   "cell_type": "code",
   "execution_count": null,
   "metadata": {
    "collapsed": false
   },
   "outputs": [],
   "source": []
  },
  {
   "cell_type": "code",
   "execution_count": null,
   "metadata": {
    "collapsed": false
   },
   "outputs": [],
   "source": []
  },
  {
   "cell_type": "code",
   "execution_count": null,
   "metadata": {
    "collapsed": true
   },
   "outputs": [],
   "source": []
  }
 ],
 "metadata": {
  "kernelspec": {
   "display_name": "Python 2",
   "language": "python",
   "name": "python2"
  },
  "language_info": {
   "codemirror_mode": {
    "name": "ipython",
    "version": 2
   },
   "file_extension": ".py",
   "mimetype": "text/x-python",
   "name": "python",
   "nbconvert_exporter": "python",
   "pygments_lexer": "ipython2",
   "version": "2.7.11"
  }
 },
 "nbformat": 4,
 "nbformat_minor": 0
}
