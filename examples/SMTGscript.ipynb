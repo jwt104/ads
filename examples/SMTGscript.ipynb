{
 "cells": [
  {
   "cell_type": "code",
   "execution_count": 1,
   "metadata": {
    "collapsed": true
   },
   "outputs": [],
   "source": [
    "from __future__ import print_function, division"
   ]
  },
  {
   "cell_type": "code",
   "execution_count": 2,
   "metadata": {
    "collapsed": true
   },
   "outputs": [],
   "source": [
    "import ads\n",
    "import sys\n",
    "import numpy\n",
    "import unicodedata\n",
    "import os.path\n",
    "from StringIO import StringIO\n",
    "from time import localtime"
   ]
  },
  {
   "cell_type": "code",
   "execution_count": 3,
   "metadata": {
    "collapsed": false
   },
   "outputs": [],
   "source": [
    "# ADS needs a token - this one is for jwt104@googlemail.com so be warned!\n",
    "ads.config.token = 'zmmgkG86fM0hBeBjoOJicrr5GegJWe69vJ5ULDNd'"
   ]
  },
  {
   "cell_type": "code",
   "execution_count": 4,
   "metadata": {
    "collapsed": false
   },
   "outputs": [],
   "source": [
    "#simple function to read in a file\n",
    "def load(fname):\n",
    "    ''' load the file using std open'''\n",
    "    f = open(fname,'r')\n",
    "\n",
    "    data = []\n",
    "    for line in f.readlines():\n",
    "        data.append(line.replace('\\n','').split(';'))\n",
    "\n",
    "    f.close()\n",
    "\n",
    "    return data"
   ]
  },
  {
   "cell_type": "code",
   "execution_count": 5,
   "metadata": {
    "collapsed": false
   },
   "outputs": [],
   "source": [
    "# function to compare name against staff list and add hyperlink if match found\n",
    "def compareauthor(name,sfile):\n",
    "    '''compare author with SMTG grp members and return link if matched'''    \n",
    "    assert type(name) == unicode, 'name must be unicode string'\n",
    "    assert type(sfile) == str, 'staff filename must be a string'\n",
    "    \n",
    "    if os.path.exists(sfile): staff=load(sfile)\n",
    "    \n",
    "    found=0\n",
    "    for people in staff:\n",
    "        nom=','.join(people[2:3])[2:-1]\n",
    "        if len(people[0].split()) == 3:\n",
    "            altnom=''.join(people[0].split(' ')[2:3])+', '+' '.join(people[0].split(' ')[0:2])\n",
    "        else:\n",
    "            altnom=', '.join(people[0].split(' ')[::-1])\n",
    "        if  nom == name.encode(\"utf-8\"):\n",
    "            #print('FOUND'),\n",
    "            found=1\n",
    "            jsthing=''.join(people[4:])\n",
    "            linktoreturn = '<a href={0}>{1}</a>'.format(jsthing[1:],name)\n",
    "            type(linktoreturn)\n",
    "            #fine, thats the normal short form name, what about full name?\n",
    "\n",
    "        if  found==0 and altnom == name.encode(\"utf-8\"):\n",
    "            #print('FOUND'),\n",
    "            found=1\n",
    "            jsthing=''.join(people[4:])\n",
    "            linktoreturn = '<a href={0}>{1}</a>'.format(jsthing[1:],altnom)\n",
    "            type(linktoreturn)\n",
    "            \n",
    "\n",
    "    if found == 0:\n",
    "        linktoreturn=name\n",
    "    \n",
    "    linktoreturn=u'{0}; '.format(linktoreturn)\n",
    "            \n",
    "    return linktoreturn"
   ]
  },
  {
   "cell_type": "code",
   "execution_count": 6,
   "metadata": {
    "collapsed": false
   },
   "outputs": [],
   "source": [
    "#simple function to output basic html table of correctly formatted authors and titles of SMTG pubs\n",
    "def write_table(tlist,alist, dlist, filename,stfile):\n",
    "    '''output simple html table containing list of recent SMTG pubs and authors'''\n",
    "    assert type(tlist) == list, 'titlelist must be list of titles'\n",
    "    assert type(alist) == list, 'authorlist must be list of authors'\n",
    "    assert type(dlist) == list, 'doilist must be list of authors'\n",
    "    assert len(tlist) == len(alist), 'author and title list must be same length'\n",
    "    assert type(filename) == str, 'name must be string'\n",
    "    assert type(stfile) == str, 'stafflist file must be a string'\n",
    "    \n",
    "    target = open(filename, 'w')\n",
    "    target.truncate()\n",
    "    \n",
    "    my_string = '' \n",
    "    target.write('<HTML><head></head><body>')\n",
    "    target.write('<table>')\n",
    "    target.write(\"\\n\")\n",
    "    for title, authors, doi in zip(tlist, alist, dlist):    \n",
    "    #for paper in titlelist:\n",
    "        target.write('<tr><td>')\n",
    "        target.write(\"\\n\")\n",
    "        for author in authors:\n",
    "            temp=compareauthor(name=author, sfile=stfile)\n",
    "            target.write(temp.encode('ascii', 'xmlcharrefreplace'))\n",
    "        \n",
    "        target.write(\"\\n\")\n",
    "        target.write('</td><td>')\n",
    "        target.write('<a href=http://dx.doi.org/')\n",
    "        target.write(str(doi).encode('ascii')[3:-2])\n",
    "        target.write('>')\n",
    "        target.write(str(title)[3:-2].encode('ascii', 'xmlcharrefreplace'))\n",
    "        target.write('</a>')\n",
    "        target.write('</td></tr>')\n",
    "        target.write(\"\\n\")\n",
    "    \n",
    "    target.write('</table></body></HTML>')\n",
    "    target.close()"
   ]
  },
  {
   "cell_type": "code",
   "execution_count": 8,
   "metadata": {
    "collapsed": false
   },
   "outputs": [
    {
     "name": "stdout",
     "output_type": "stream",
     "text": [
      "SMTG PUBLICATION SCRIPT (JT 2016)\n",
      "-------\n",
      "Querying Year/Month 2016 (in month 11)\n",
      "\n",
      "Hood, A. W. had 5 publications in 2016\n",
      "Archontis, V. had 1 publications in 2016\n",
      "De Moortel, I. had 5 publications in 2016\n",
      "Mackay, D. H. had 7 publications in 2016\n",
      "Neukirch, T. had 7 publications in 2016\n",
      "Parnell, C. E. had 3 publications in 2016\n",
      "Wright, A. N. had 3 publications in 2016\n",
      "Conlon, T. M. had 0 publications in 2016\n",
      "Antolin, P. had 2 publications in 2016\n",
      "Pagano, P. had 0 publications in 2016\n",
      "Threlfall, J. had 3 publications in 2016\n",
      "Wilson, F. had 3 publications in 2016\n",
      "Haynes, A. L. had 0 publications in 2016\n",
      "Brooks, S. had 0 publications in 2016\n",
      "Fruchtl, H. had 1 publications in 2016\n",
      "MacFarlane, F. had 0 publications in 2016\n",
      "Stevenson, J. had 1 publications in 2016\n",
      "Elsden, T. had 1 publications in 2016\n",
      "Hodgson, J. B. H. had 0 publications in 2016\n",
      "Lee, E. J. had 0 publications in 2016\n",
      "O'Hara, J. had 1 publications in 2016\n",
      "Allanson, O. had 2 publications in 2016\n",
      "Sturrock, Z. had 1 publications in 2016\n",
      "Borissov, A. had 1 publications in 2016\n",
      "Johnston, C. D. had 0 publications in 2016\n",
      "Williams, B. had 0 publications in 2016\n",
      "Goldstraw, E. had 0 publications in 2016\n",
      "Howson, T. had 0 publications in 2016\n",
      "Priest, E. R. had 3 publications in 2016\n"
     ]
    },
    {
     "ename": "APIResponseError",
     "evalue": "u'{\"responseHeader\":{\"status\":500,\"QTime\":3,\"params\":{\"q\":\"author:\\\\\"Cargill, P. J.\\\\\" pubdate:2016         aff:(\\\\\"University of St Andrews\\\\\") property:refereed          database:(\\\\\"astronomy\\\\\" OR \\\\\"physics\\\\\")\",\"fl\":\"id,author,title,doi\",\"start\":\"0\",\"rows\":\"50\",\"wt\":\"json\"}},\"error\":{\"msg\":\"TokenStream contract violation: close() call missing\",\"trace\":\"java.lang.IllegalStateException: TokenStream contract violation: close() call missing\\\\n\\\\tat org.apache.lucene.analysis.Tokenizer.setReader(Tokenizer.java:90)\\\\n\\\\tat org.apache.lucene.analysis.Analyzer$TokenStreamComponents.setReader(Analyzer.java:307)\\\\n\\\\tat org.apache.lucene.analysis.Analyzer.tokenStream(Analyzer.java:145)\\\\n\\\\tat org.apache.lucene.queryparser.flexible.aqp.processors.AqpAdsabsExpandAuthorSearchProcessor.getSynonyms(AqpAdsabsExpandAuthorSearchProcessor.java:252)\\\\n\\\\tat org.apache.lucene.queryparser.flexible.aqp.processors.AqpAdsabsExpandAuthorSearchProcessor.doExpansion(AqpAdsabsExpandAuthorSearchProcessor.java:158)\\\\n\\\\tat org.apache.lucene.queryparser.flexible.aqp.processors.AqpAdsabsExpandAuthorSearchProcessor.expandNodes(AqpAdsabsExpandAuthorSearchProcessor.java:107)\\\\n\\\\tat org.apache.lucene.queryparser.flexible.aqp.processors.AqpAdsabsExpandAuthorSearchProcessor.doExpansion(AqpAdsabsExpandAuthorSearchProcessor.java:236)\\\\n\\\\tat org.apache.lucene.queryparser.flexible.aqp.processors.AqpAdsabsExpandAuthorSearchProcessor.expandNodes(AqpAdsabsExpandAuthorSearchProcessor.java:107)\\\\n\\\\tat org.apache.lucene.queryparser.flexible.aqp.processors.AqpAdsabsExpandAuthorSearchProcessor.postProcessNode(AqpAdsabsExpandAuthorSearchProcessor.java:86)\\\\n\\\\tat org.apache.lucene.queryparser.flexible.core.processors.QueryNodeProcessorImpl.processIteration(QueryNodeProcessorImpl.java:99)\\\\n\\\\tat org.apache.lucene.queryparser.flexible.core.processors.QueryNodeProcessorImpl.processChildren(QueryNodeProcessorImpl.java:125)\\\\n\\\\tat org.apache.lucene.queryparser.flexible.core.processors.QueryNodeProcessorImpl.processIteration(QueryNodeProcessorImpl.java:97)\\\\n\\\\tat org.apache.lucene.queryparser.flexible.core.processors.QueryNodeProcessorImpl.processChildren(QueryNodeProcessorImpl.java:125)\\\\n\\\\tat org.apache.lucene.queryparser.flexible.core.processors.QueryNodeProcessorImpl.processIteration(QueryNodeProcessorImpl.java:97)\\\\n\\\\tat org.apache.lucene.queryparser.flexible.core.processors.QueryNodeProcessorImpl.process(QueryNodeProcessorImpl.java:90)\\\\n\\\\tat org.apache.lucene.queryparser.flexible.aqp.processors.AqpAdsabsExpandAuthorSearchProcessor.process(AqpAdsabsExpandAuthorSearchProcessor.java:64)\\\\n\\\\tat org.apache.lucene.queryparser.flexible.core.processors.QueryNodeProcessorPipeline.process(QueryNodeProcessorPipeline.java:90)\\\\n\\\\tat org.apache.lucene.queryparser.flexible.core.QueryParserHelper.parse(QueryParserHelper.java:255)\\\\n\\\\tat org.apache.lucene.queryparser.flexible.aqp.AqpQueryParser.parse(AqpQueryParser.java:237)\\\\n\\\\tat org.apache.solr.search.AqpAdsabsQParser.parse(AqpAdsabsQParser.java:285)\\\\n\\\\tat org.apache.solr.search.QParser.getQuery(QParser.java:141)\\\\n\\\\tat org.apache.solr.handler.component.QueryComponent.prepare(QueryComponent.java:148)\\\\n\\\\tat org.apache.solr.handler.component.SearchHandler.handleRequestBody(SearchHandler.java:197)\\\\n\\\\tat org.apache.solr.handler.RequestHandlerBase.handleRequest(RequestHandlerBase.java:135)\\\\n\\\\tat org.apache.solr.core.SolrCore.execute(SolrCore.java:1962)\\\\n\\\\tat org.apache.solr.servlet.SolrDispatchFilter.execute(SolrDispatchFilter.java:777)\\\\n\\\\tat org.apache.solr.servlet.SolrDispatchFilter.doFilter(SolrDispatchFilter.java:418)\\\\n\\\\tat org.apache.solr.servlet.SolrDispatchFilter.doFilter(SolrDispatchFilter.java:207)\\\\n\\\\tat org.eclipse.jetty.servlet.ServletHandler$CachedChain.doFilter(ServletHandler.java:1419)\\\\n\\\\tat org.eclipse.jetty.servlet.ServletHandler.doHandle(ServletHandler.java:455)\\\\n\\\\tat org.eclipse.jetty.server.handler.ScopedHandler.handle(ScopedHandler.java:137)\\\\n\\\\tat org.eclipse.jetty.security.SecurityHandler.handle(SecurityHandler.java:557)\\\\n\\\\tat org.eclipse.jetty.server.session.SessionHandler.doHandle(SessionHandler.java:231)\\\\n\\\\tat org.eclipse.jetty.server.handler.ContextHandler.doHandle(ContextHandler.java:1075)\\\\n\\\\tat org.eclipse.jetty.servlet.ServletHandler.doScope(ServletHandler.java:384)\\\\n\\\\tat org.eclipse.jetty.server.session.SessionHandler.doScope(SessionHandler.java:193)\\\\n\\\\tat org.eclipse.jetty.server.handler.ContextHandler.doScope(ContextHandler.java:1009)\\\\n\\\\tat org.eclipse.jetty.server.handler.ScopedHandler.handle(ScopedHandler.java:135)\\\\n\\\\tat org.eclipse.jetty.server.handler.ContextHandlerCollection.handle(ContextHandlerCollection.java:255)\\\\n\\\\tat org.eclipse.jetty.server.handler.HandlerCollection.handle(HandlerCollection.java:154)\\\\n\\\\tat org.eclipse.jetty.server.handler.HandlerWrapper.handle(HandlerWrapper.java:116)\\\\n\\\\tat org.eclipse.jetty.server.Server.handle(Server.java:368)\\\\n\\\\tat org.eclipse.jetty.server.AbstractHttpConnection.handleRequest(AbstractHttpConnection.java:489)\\\\n\\\\tat org.eclipse.jetty.server.AbstractHttpConnection.content(AbstractHttpConnection.java:953)\\\\n\\\\tat org.eclipse.jetty.server.AbstractHttpConnection$RequestHandler.content(AbstractHttpConnection.java:1014)\\\\n\\\\tat org.eclipse.jetty.http.HttpParser.parseNext(HttpParser.java:861)\\\\n\\\\tat org.eclipse.jetty.http.HttpParser.parseAvailable(HttpParser.java:240)\\\\n\\\\tat org.eclipse.jetty.server.AsyncHttpConnection.handle(AsyncHttpConnection.java:82)\\\\n\\\\tat org.eclipse.jetty.io.nio.SelectChannelEndPoint.handle(SelectChannelEndPoint.java:628)\\\\n\\\\tat org.eclipse.jetty.io.nio.SelectChannelEndPoint$1.run(SelectChannelEndPoint.java:52)\\\\n\\\\tat org.eclipse.jetty.util.thread.QueuedThreadPool.runJob(QueuedThreadPool.java:608)\\\\n\\\\tat org.eclipse.jetty.util.thread.QueuedThreadPool$3.run(QueuedThreadPool.java:543)\\\\n\\\\tat java.lang.Thread.run(Thread.java:745)\\\\n\",\"code\":500}}\\n'",
     "output_type": "error",
     "traceback": [
      "\u001b[0;31m---------------------------------------------------------------------------\u001b[0m",
      "\u001b[0;31mAPIResponseError\u001b[0m                          Traceback (most recent call last)",
      "\u001b[0;32m<ipython-input-8-0e65bc59f6b5>\u001b[0m in \u001b[0;36m<module>\u001b[0;34m()\u001b[0m\n\u001b[1;32m     28\u001b[0m         \u001b[0meachname\u001b[0m\u001b[0;34m=\u001b[0m\u001b[0;34m','\u001b[0m\u001b[0;34m.\u001b[0m\u001b[0mjoin\u001b[0m\u001b[0;34m(\u001b[0m\u001b[0mperson\u001b[0m\u001b[0;34m[\u001b[0m\u001b[0;36m2\u001b[0m\u001b[0;34m:\u001b[0m\u001b[0;36m3\u001b[0m\u001b[0;34m]\u001b[0m\u001b[0;34m)\u001b[0m\u001b[0;34m[\u001b[0m\u001b[0;36m2\u001b[0m\u001b[0;34m:\u001b[0m\u001b[0;34m-\u001b[0m\u001b[0;36m1\u001b[0m\u001b[0;34m]\u001b[0m\u001b[0;34m\u001b[0m\u001b[0m\n\u001b[1;32m     29\u001b[0m         \u001b[0;31m# Query ADS for author, institute, pub date, database...\u001b[0m\u001b[0;34m\u001b[0m\u001b[0;34m\u001b[0m\u001b[0m\n\u001b[0;32m---> 30\u001b[0;31m         \u001b[0mpapers\u001b[0m\u001b[0;34m=\u001b[0m\u001b[0mlist\u001b[0m\u001b[0;34m(\u001b[0m\u001b[0mads\u001b[0m\u001b[0;34m.\u001b[0m\u001b[0mSearchQuery\u001b[0m\u001b[0;34m(\u001b[0m  \u001b[0mfl\u001b[0m\u001b[0;34m=\u001b[0m\u001b[0;34m[\u001b[0m\u001b[0;34m'author'\u001b[0m\u001b[0;34m,\u001b[0m\u001b[0;34m'title'\u001b[0m\u001b[0;34m,\u001b[0m\u001b[0;34m'doi'\u001b[0m\u001b[0;34m]\u001b[0m\u001b[0;34m,\u001b[0m \u001b[0mq\u001b[0m\u001b[0;34m=\u001b[0m\u001b[0;34m'author:\\\"{0}\\\" pubdate:{1}         aff:(\\\"University of St Andrews\\\") property:refereed          database:(\"astronomy\" OR \"physics\")'\u001b[0m\u001b[0;34m.\u001b[0m\u001b[0mformat\u001b[0m\u001b[0;34m(\u001b[0m\u001b[0meachname\u001b[0m\u001b[0;34m,\u001b[0m \u001b[0myear\u001b[0m\u001b[0;34m)\u001b[0m\u001b[0;34m)\u001b[0m\u001b[0;34m)\u001b[0m\u001b[0;34m\u001b[0m\u001b[0m\n\u001b[0m\u001b[1;32m     31\u001b[0m         \u001b[0;31m#fl=['id', 'first_author', 'year', 'bibcode', 'identifier', 'author','title'],\u001b[0m\u001b[0;34m\u001b[0m\u001b[0;34m\u001b[0m\u001b[0m\n\u001b[1;32m     32\u001b[0m         \u001b[0;31m#query.execute()\u001b[0m\u001b[0;34m\u001b[0m\u001b[0;34m\u001b[0m\u001b[0m\n",
      "\u001b[0;32m/Users/james/anaconda/lib/python2.7/site-packages/ads/search.pyc\u001b[0m in \u001b[0;36mnext\u001b[0;34m(self)\u001b[0m\n\u001b[1;32m    383\u001b[0m \u001b[0;34m\u001b[0m\u001b[0m\n\u001b[1;32m    384\u001b[0m     \u001b[0;32mdef\u001b[0m \u001b[0mnext\u001b[0m\u001b[0;34m(\u001b[0m\u001b[0mself\u001b[0m\u001b[0;34m)\u001b[0m\u001b[0;34m:\u001b[0m\u001b[0;34m\u001b[0m\u001b[0m\n\u001b[0;32m--> 385\u001b[0;31m         \u001b[0;32mreturn\u001b[0m \u001b[0mself\u001b[0m\u001b[0;34m.\u001b[0m\u001b[0m__next__\u001b[0m\u001b[0;34m(\u001b[0m\u001b[0;34m)\u001b[0m\u001b[0;34m\u001b[0m\u001b[0m\n\u001b[0m\u001b[1;32m    386\u001b[0m \u001b[0;34m\u001b[0m\u001b[0m\n\u001b[1;32m    387\u001b[0m     \u001b[0;32mdef\u001b[0m \u001b[0m__next__\u001b[0m\u001b[0;34m(\u001b[0m\u001b[0mself\u001b[0m\u001b[0;34m)\u001b[0m\u001b[0;34m:\u001b[0m\u001b[0;34m\u001b[0m\u001b[0m\n",
      "\u001b[0;32m/Users/james/anaconda/lib/python2.7/site-packages/ads/search.pyc\u001b[0m in \u001b[0;36m__next__\u001b[0;34m(self)\u001b[0m\n\u001b[1;32m    392\u001b[0m         \u001b[0;31m# explicitly\u001b[0m\u001b[0;34m\u001b[0m\u001b[0;34m\u001b[0m\u001b[0m\n\u001b[1;32m    393\u001b[0m         \u001b[0;32mif\u001b[0m \u001b[0mself\u001b[0m\u001b[0;34m.\u001b[0m\u001b[0mresponse\u001b[0m \u001b[0;32mis\u001b[0m \u001b[0mNone\u001b[0m\u001b[0;34m:\u001b[0m\u001b[0;34m\u001b[0m\u001b[0m\n\u001b[0;32m--> 394\u001b[0;31m             \u001b[0mself\u001b[0m\u001b[0;34m.\u001b[0m\u001b[0mexecute\u001b[0m\u001b[0;34m(\u001b[0m\u001b[0;34m)\u001b[0m\u001b[0;34m\u001b[0m\u001b[0m\n\u001b[0m\u001b[1;32m    395\u001b[0m \u001b[0;34m\u001b[0m\u001b[0m\n\u001b[1;32m    396\u001b[0m         \u001b[0;32mtry\u001b[0m\u001b[0;34m:\u001b[0m\u001b[0;34m\u001b[0m\u001b[0m\n",
      "\u001b[0;32m/Users/james/anaconda/lib/python2.7/site-packages/ads/search.pyc\u001b[0m in \u001b[0;36mexecute\u001b[0;34m(self)\u001b[0m\n\u001b[1;32m    424\u001b[0m         \"\"\"\n\u001b[1;32m    425\u001b[0m         self.response = SolrResponse.load_http_response(\n\u001b[0;32m--> 426\u001b[0;31m             \u001b[0mself\u001b[0m\u001b[0;34m.\u001b[0m\u001b[0msession\u001b[0m\u001b[0;34m.\u001b[0m\u001b[0mget\u001b[0m\u001b[0;34m(\u001b[0m\u001b[0mself\u001b[0m\u001b[0;34m.\u001b[0m\u001b[0mHTTP_ENDPOINT\u001b[0m\u001b[0;34m,\u001b[0m \u001b[0mparams\u001b[0m\u001b[0;34m=\u001b[0m\u001b[0mself\u001b[0m\u001b[0;34m.\u001b[0m\u001b[0mquery\u001b[0m\u001b[0;34m)\u001b[0m\u001b[0;34m\u001b[0m\u001b[0m\n\u001b[0m\u001b[1;32m    427\u001b[0m         )\n\u001b[1;32m    428\u001b[0m \u001b[0;34m\u001b[0m\u001b[0m\n",
      "\u001b[0;32m/Users/james/anaconda/lib/python2.7/site-packages/ads/base.pyc\u001b[0m in \u001b[0;36mload_http_response\u001b[0;34m(cls, HTTPResponse)\u001b[0m\n\u001b[1;32m     92\u001b[0m         \"\"\"\n\u001b[1;32m     93\u001b[0m         \u001b[0;32mif\u001b[0m \u001b[0;32mnot\u001b[0m \u001b[0mHTTPResponse\u001b[0m\u001b[0;34m.\u001b[0m\u001b[0mok\u001b[0m\u001b[0;34m:\u001b[0m\u001b[0;34m\u001b[0m\u001b[0m\n\u001b[0;32m---> 94\u001b[0;31m             \u001b[0;32mraise\u001b[0m \u001b[0mAPIResponseError\u001b[0m\u001b[0;34m(\u001b[0m\u001b[0mHTTPResponse\u001b[0m\u001b[0;34m.\u001b[0m\u001b[0mtext\u001b[0m\u001b[0;34m)\u001b[0m\u001b[0;34m\u001b[0m\u001b[0m\n\u001b[0m\u001b[1;32m     95\u001b[0m         \u001b[0mc\u001b[0m \u001b[0;34m=\u001b[0m \u001b[0mcls\u001b[0m\u001b[0;34m(\u001b[0m\u001b[0mHTTPResponse\u001b[0m\u001b[0;34m.\u001b[0m\u001b[0mtext\u001b[0m\u001b[0;34m)\u001b[0m\u001b[0;34m\u001b[0m\u001b[0m\n\u001b[1;32m     96\u001b[0m         \u001b[0mc\u001b[0m\u001b[0;34m.\u001b[0m\u001b[0mresponse\u001b[0m \u001b[0;34m=\u001b[0m \u001b[0mHTTPResponse\u001b[0m\u001b[0;34m\u001b[0m\u001b[0m\n",
      "\u001b[0;31mAPIResponseError\u001b[0m: u'{\"responseHeader\":{\"status\":500,\"QTime\":3,\"params\":{\"q\":\"author:\\\\\"Cargill, P. J.\\\\\" pubdate:2016         aff:(\\\\\"University of St Andrews\\\\\") property:refereed          database:(\\\\\"astronomy\\\\\" OR \\\\\"physics\\\\\")\",\"fl\":\"id,author,title,doi\",\"start\":\"0\",\"rows\":\"50\",\"wt\":\"json\"}},\"error\":{\"msg\":\"TokenStream contract violation: close() call missing\",\"trace\":\"java.lang.IllegalStateException: TokenStream contract violation: close() call missing\\\\n\\\\tat org.apache.lucene.analysis.Tokenizer.setReader(Tokenizer.java:90)\\\\n\\\\tat org.apache.lucene.analysis.Analyzer$TokenStreamComponents.setReader(Analyzer.java:307)\\\\n\\\\tat org.apache.lucene.analysis.Analyzer.tokenStream(Analyzer.java:145)\\\\n\\\\tat org.apache.lucene.queryparser.flexible.aqp.processors.AqpAdsabsExpandAuthorSearchProcessor.getSynonyms(AqpAdsabsExpandAuthorSearchProcessor.java:252)\\\\n\\\\tat org.apache.lucene.queryparser.flexible.aqp.processors.AqpAdsabsExpandAuthorSearchProcessor.doExpansion(AqpAdsabsExpandAuthorSearchProcessor.java:158)\\\\n\\\\tat org.apache.lucene.queryparser.flexible.aqp.processors.AqpAdsabsExpandAuthorSearchProcessor.expandNodes(AqpAdsabsExpandAuthorSearchProcessor.java:107)\\\\n\\\\tat org.apache.lucene.queryparser.flexible.aqp.processors.AqpAdsabsExpandAuthorSearchProcessor.doExpansion(AqpAdsabsExpandAuthorSearchProcessor.java:236)\\\\n\\\\tat org.apache.lucene.queryparser.flexible.aqp.processors.AqpAdsabsExpandAuthorSearchProcessor.expandNodes(AqpAdsabsExpandAuthorSearchProcessor.java:107)\\\\n\\\\tat org.apache.lucene.queryparser.flexible.aqp.processors.AqpAdsabsExpandAuthorSearchProcessor.postProcessNode(AqpAdsabsExpandAuthorSearchProcessor.java:86)\\\\n\\\\tat org.apache.lucene.queryparser.flexible.core.processors.QueryNodeProcessorImpl.processIteration(QueryNodeProcessorImpl.java:99)\\\\n\\\\tat org.apache.lucene.queryparser.flexible.core.processors.QueryNodeProcessorImpl.processChildren(QueryNodeProcessorImpl.java:125)\\\\n\\\\tat org.apache.lucene.queryparser.flexible.core.processors.QueryNodeProcessorImpl.processIteration(QueryNodeProcessorImpl.java:97)\\\\n\\\\tat org.apache.lucene.queryparser.flexible.core.processors.QueryNodeProcessorImpl.processChildren(QueryNodeProcessorImpl.java:125)\\\\n\\\\tat org.apache.lucene.queryparser.flexible.core.processors.QueryNodeProcessorImpl.processIteration(QueryNodeProcessorImpl.java:97)\\\\n\\\\tat org.apache.lucene.queryparser.flexible.core.processors.QueryNodeProcessorImpl.process(QueryNodeProcessorImpl.java:90)\\\\n\\\\tat org.apache.lucene.queryparser.flexible.aqp.processors.AqpAdsabsExpandAuthorSearchProcessor.process(AqpAdsabsExpandAuthorSearchProcessor.java:64)\\\\n\\\\tat org.apache.lucene.queryparser.flexible.core.processors.QueryNodeProcessorPipeline.process(QueryNodeProcessorPipeline.java:90)\\\\n\\\\tat org.apache.lucene.queryparser.flexible.core.QueryParserHelper.parse(QueryParserHelper.java:255)\\\\n\\\\tat org.apache.lucene.queryparser.flexible.aqp.AqpQueryParser.parse(AqpQueryParser.java:237)\\\\n\\\\tat org.apache.solr.search.AqpAdsabsQParser.parse(AqpAdsabsQParser.java:285)\\\\n\\\\tat org.apache.solr.search.QParser.getQuery(QParser.java:141)\\\\n\\\\tat org.apache.solr.handler.component.QueryComponent.prepare(QueryComponent.java:148)\\\\n\\\\tat org.apache.solr.handler.component.SearchHandler.handleRequestBody(SearchHandler.java:197)\\\\n\\\\tat org.apache.solr.handler.RequestHandlerBase.handleRequest(RequestHandlerBase.java:135)\\\\n\\\\tat org.apache.solr.core.SolrCore.execute(SolrCore.java:1962)\\\\n\\\\tat org.apache.solr.servlet.SolrDispatchFilter.execute(SolrDispatchFilter.java:777)\\\\n\\\\tat org.apache.solr.servlet.SolrDispatchFilter.doFilter(SolrDispatchFilter.java:418)\\\\n\\\\tat org.apache.solr.servlet.SolrDispatchFilter.doFilter(SolrDispatchFilter.java:207)\\\\n\\\\tat org.eclipse.jetty.servlet.ServletHandler$CachedChain.doFilter(ServletHandler.java:1419)\\\\n\\\\tat org.eclipse.jetty.servlet.ServletHandler.doHandle(ServletHandler.java:455)\\\\n\\\\tat org.eclipse.jetty.server.handler.ScopedHandler.handle(ScopedHandler.java:137)\\\\n\\\\tat org.eclipse.jetty.security.SecurityHandler.handle(SecurityHandler.java:557)\\\\n\\\\tat org.eclipse.jetty.server.session.SessionHandler.doHandle(SessionHandler.java:231)\\\\n\\\\tat org.eclipse.jetty.server.handler.ContextHandler.doHandle(ContextHandler.java:1075)\\\\n\\\\tat org.eclipse.jetty.servlet.ServletHandler.doScope(ServletHandler.java:384)\\\\n\\\\tat org.eclipse.jetty.server.session.SessionHandler.doScope(SessionHandler.java:193)\\\\n\\\\tat org.eclipse.jetty.server.handler.ContextHandler.doScope(ContextHandler.java:1009)\\\\n\\\\tat org.eclipse.jetty.server.handler.ScopedHandler.handle(ScopedHandler.java:135)\\\\n\\\\tat org.eclipse.jetty.server.handler.ContextHandlerCollection.handle(ContextHandlerCollection.java:255)\\\\n\\\\tat org.eclipse.jetty.server.handler.HandlerCollection.handle(HandlerCollection.java:154)\\\\n\\\\tat org.eclipse.jetty.server.handler.HandlerWrapper.handle(HandlerWrapper.java:116)\\\\n\\\\tat org.eclipse.jetty.server.Server.handle(Server.java:368)\\\\n\\\\tat org.eclipse.jetty.server.AbstractHttpConnection.handleRequest(AbstractHttpConnection.java:489)\\\\n\\\\tat org.eclipse.jetty.server.AbstractHttpConnection.content(AbstractHttpConnection.java:953)\\\\n\\\\tat org.eclipse.jetty.server.AbstractHttpConnection$RequestHandler.content(AbstractHttpConnection.java:1014)\\\\n\\\\tat org.eclipse.jetty.http.HttpParser.parseNext(HttpParser.java:861)\\\\n\\\\tat org.eclipse.jetty.http.HttpParser.parseAvailable(HttpParser.java:240)\\\\n\\\\tat org.eclipse.jetty.server.AsyncHttpConnection.handle(AsyncHttpConnection.java:82)\\\\n\\\\tat org.eclipse.jetty.io.nio.SelectChannelEndPoint.handle(SelectChannelEndPoint.java:628)\\\\n\\\\tat org.eclipse.jetty.io.nio.SelectChannelEndPoint$1.run(SelectChannelEndPoint.java:52)\\\\n\\\\tat org.eclipse.jetty.util.thread.QueuedThreadPool.runJob(QueuedThreadPool.java:608)\\\\n\\\\tat org.eclipse.jetty.util.thread.QueuedThreadPool$3.run(QueuedThreadPool.java:543)\\\\n\\\\tat java.lang.Thread.run(Thread.java:745)\\\\n\",\"code\":500}}\\n'"
     ]
    }
   ],
   "source": [
    "#main prog\n",
    "if __name__ == \"__main__\":\n",
    "    print('SMTG PUBLICATION SCRIPT (JT 2016)')\n",
    "    print(\"-------\")\n",
    "    #first check the date and rip out the current month/year\n",
    "    now = localtime()\n",
    "    print, now\n",
    "    year, month = (now.tm_year, now.tm_mon)\n",
    "    if 1 > month: year, month = (year - 1, month)\n",
    "    print('Querying Year/Month {0} (in month {1})'.format(year, month)),\n",
    "    print(),\n",
    "\n",
    "    #query the location of the current staff list\n",
    "    staffloc='../staff_current.txt'\n",
    "    if os.path.exists(staffloc):\n",
    "        staff=load(staffloc) \n",
    "    else:\n",
    "        print('NO FILE FOUND AT', staffloc)\t\n",
    "        exit() \n",
    "    \n",
    "    outfile='./test.html'\n",
    "    authlist=[]\n",
    "    titlelist=[]\n",
    "    doilist=[]\n",
    "    \n",
    "    for person in staff:\n",
    "        #glue together the peoples name in stafflist\n",
    "        eachname=','.join(person[2:3])[2:-1]\n",
    "        # Query ADS for author, institute, pub date, database...\n",
    "        papers=list(ads.SearchQuery(  fl=['author','title','doi'], q='author:\\\"{0}\\\" pubdate:{1} \\\n",
    "        aff:(\\\"University of St Andrews\\\") property:refereed  \\\n",
    "        database:(\"astronomy\" OR \"physics\")'.format(eachname, year)))\n",
    "        #fl=['id', 'first_author', 'year', 'bibcode', 'identifier', 'author','title'],\n",
    "        #query.execute()\n",
    "        #count the number of pubs each person has (so far)\n",
    "        #num = int(query.response.numFound)\n",
    "        num=len(papers)\n",
    "        print(\"{person} had {num} publications in {year}\".format(person=eachname, num=num, year=year))\n",
    "        \n",
    "        #if anything published, then add that to the list\n",
    "        if num > 0:\n",
    "            for n in papers:\n",
    "                #avoid multiple instances of same paper\n",
    "                if n.title not in titlelist:\n",
    "                    titlelist.append(n.title)\n",
    "                    authlist.append(n.author)\n",
    "                    doilist.append(n.doi)\n",
    "                #else:\n",
    "                    #print('matched publication, ignoring..')\n",
    "    #list is done, so now write out the table, JOB DONE.\n",
    "    \n",
    "    write_table(tlist=titlelist,alist=authlist,dlist=doilist,filename=outfile, stfile=staffloc)    \n",
    "    print(\"-------\")\n",
    "    print('DONE: output to {0}'.format(outfile))\n",
    "    print('-------')\n",
    "    print('')"
   ]
  },
  {
   "cell_type": "code",
   "execution_count": null,
   "metadata": {
    "collapsed": true
   },
   "outputs": [],
   "source": []
  },
  {
   "cell_type": "code",
   "execution_count": null,
   "metadata": {
    "collapsed": true
   },
   "outputs": [],
   "source": []
  }
 ],
 "metadata": {
  "kernelspec": {
   "display_name": "Python 2",
   "language": "python",
   "name": "python2"
  },
  "language_info": {
   "codemirror_mode": {
    "name": "ipython",
    "version": 2
   },
   "file_extension": ".py",
   "mimetype": "text/x-python",
   "name": "python",
   "nbconvert_exporter": "python",
   "pygments_lexer": "ipython2",
   "version": "2.7.11"
  }
 },
 "nbformat": 4,
 "nbformat_minor": 0
}
