{
 "cells": [
  {
   "cell_type": "code",
   "execution_count": 19,
   "metadata": {
    "collapsed": true
   },
   "outputs": [],
   "source": [
    "from __future__ import print_function, division"
   ]
  },
  {
   "cell_type": "code",
   "execution_count": 20,
   "metadata": {
    "collapsed": true
   },
   "outputs": [],
   "source": [
    "import ads\n",
    "import sys\n",
    "import numpy\n",
    "import unicodedata\n",
    "import os.path\n",
    "from StringIO import StringIO\n",
    "from time import localtime"
   ]
  },
  {
   "cell_type": "code",
   "execution_count": 21,
   "metadata": {
    "collapsed": true
   },
   "outputs": [],
   "source": [
    "# ADS needs a token - this one is for jwt104@googlemail.com so be warned!\n",
    "ads.config.token = 'zmmgkG86fM0hBeBjoOJicrr5GegJWe69vJ5ULDNd'"
   ]
  },
  {
   "cell_type": "code",
   "execution_count": 22,
   "metadata": {
    "collapsed": false
   },
   "outputs": [],
   "source": [
    "#simple function to read in a file\n",
    "def load(fname):\n",
    "    ''' load the file using std open'''\n",
    "    f = open(fname,'r')\n",
    "\n",
    "    data = []\n",
    "    for line in f.readlines():\n",
    "        data.append(line.replace('\\n','').split(','))\n",
    "\n",
    "    f.close()\n",
    "\n",
    "    return data"
   ]
  },
  {
   "cell_type": "code",
   "execution_count": 26,
   "metadata": {
    "collapsed": true
   },
   "outputs": [],
   "source": [
    "# function to compare name against staff list and add hyperlink if match found\n",
    "def compareauthor(name,sfile):\n",
    "    '''compare author with SMTG grp members and return link if matched'''    \n",
    "    assert type(name) == unicode, 'name must be unicode string'\n",
    "    assert type(sfile) == str, 'staff filename must be a string'\n",
    "    \n",
    "    \n",
    "    if os.path.exists(sfile): staff=load(sfile)\n",
    "    \n",
    "    found=0\n",
    "    for people in staff:\n",
    "        nom=','.join(people[2:4])[2:-1]\n",
    "        if  nom == name.encode(\"utf-8\"):\n",
    "            #print('FOUND'),\n",
    "            found=1\n",
    "            jsthing=''.join(people[7:])\n",
    "            #print(jsthing[1:]),\n",
    "            linktoreturn = '<a href={0}>{1}</a>'.format(jsthing[1:],name)\n",
    "            type(linktoreturn)\n",
    "            #print(linktoreturn),\n",
    "            #linktoreturn=\"<a href=\\\"\"+''.join(people[7:])+\">\"\n",
    "            #linktoreturn=linktoreturn+name+\"</a>\"\n",
    "\n",
    "    if found == 0:\n",
    "        linktoreturn=name\n",
    "    \n",
    "    linktoreturn=u'{0}; '.format(linktoreturn)\n",
    "            \n",
    "    return linktoreturn"
   ]
  },
  {
   "cell_type": "code",
   "execution_count": 24,
   "metadata": {
    "collapsed": false
   },
   "outputs": [],
   "source": [
    "#simple function to output basic html table of correctly formatted authors and titles of SMTG pubs\n",
    "def write_table(tlist,alist, filename,stfile):\n",
    "    '''output simple html table containing list of recent SMTG pubs and authors'''\n",
    "    assert type(tlist) == list, 'titlelist must be list of titles'\n",
    "    assert type(alist) == list, 'authorlist must be list of authors'\n",
    "    assert len(tlist) == len(alist), 'author and title list must be same length'\n",
    "    assert type(filename) == str, 'name must be string'\n",
    "    assert type(stfile) == str, 'stafflist file must be a string'\n",
    "    \n",
    "    target = open(filename, 'w')\n",
    "    target.truncate()\n",
    "    \n",
    "    #pretty_author_name = lambda author: author.split(\",\")[0] + author.split(\",\")[1].strip()[1] + \".\"\n",
    "    my_string = '' \n",
    "    target.write('<HTML><head></head><body>')\n",
    "    target.write('<table>')\n",
    "    target.write(\"\\n\")\n",
    "    for title, authors in zip(tlist, alist):    \n",
    "    #for paper in titlelist:\n",
    "        target.write('<tr><td>')\n",
    "        target.write(\"\\n\")\n",
    "        for author in authors:\n",
    "            temp=compareauthor(name=author, sfile=stfile)\n",
    "            target.write(temp.encode('ascii', 'xmlcharrefreplace'))\n",
    "            target.write(\"\\n\")\n",
    "    \n",
    "        target.write('</td><td>')\n",
    "        #target.write(my_string.join(title))\n",
    "        target.write(' '.join(title).encode('ascii', 'xmlcharrefreplace'))\n",
    "        target.write('</td></tr>')\n",
    "        target.write(\"\\n\")\n",
    "    \n",
    "    target.write('</table></body></HTML>')\n",
    "    target.close()"
   ]
  },
  {
   "cell_type": "code",
   "execution_count": 25,
   "metadata": {
    "collapsed": false
   },
   "outputs": [
    {
     "name": "stdout",
     "output_type": "stream",
     "text": [
      "SMTG PUBLICATION SCRIPT (JT 2016)\n",
      "-------\n",
      "Querying Year/Month 2016 (in month 4)\n",
      "\n",
      "Hood, A. W. had 3 publications in 2016\n",
      "Archontis, V. had 0 publications in 2016\n",
      "De Moortel, I. had 2 publications in 2016\n",
      "Mackay, D. H. had 2 publications in 2016\n",
      "Neukirch, T. had 4 publications in 2016\n",
      "Parnell, C. E. had 3 publications in 2016\n",
      "Wright, A. N. had 2 publications in 2016\n",
      "Conlon, T. M. had 0 publications in 2016\n",
      "Antolin, P. had 1 publications in 2016\n",
      "Pagano, P. had 0 publications in 2016\n",
      "Threlfall, J. had 2 publications in 2016\n",
      "Wilson, F. had 1 publications in 2016\n",
      "Haynes, A. L. had 0 publications in 2016\n",
      "Brooks, S. had 0 publications in 2016\n",
      "Fruchtl, H. had 0 publications in 2016\n",
      "MacFarlane, F. had 0 publications in 2016\n",
      "Stevenson, J. had 1 publications in 2016\n",
      "Elsden, T. had 0 publications in 2016\n",
      "Hodgson, J. had 0 publications in 2016\n",
      "Lee, E. J. had 0 publications in 2016\n",
      "O'Hara, J. had 0 publications in 2016\n",
      "Allanson, O. had 0 publications in 2016\n",
      "Sturrock, Z. had 0 publications in 2016\n",
      "Borissov, A. had 0 publications in 2016\n",
      "Johnston, C. had 0 publications in 2016\n",
      "Williams, B. had 0 publications in 2016\n",
      "Goldstraw, E. had 0 publications in 2016\n",
      "Howson, T. had 0 publications in 2016\n",
      "Priest, E. R. had 0 publications in 2016\n",
      "Cargill, P. J. had 2 publications in 2016\n",
      "Roberts, B. had 0 publications in 2016\n"
     ]
    },
    {
     "name": "stderr",
     "output_type": "stream",
     "text": [
      "/Users/james/anaconda/lib/python2.7/site-packages/ads/utils.py:23: UserWarning: You are lazy loading attributes via 'title', and so are making multiple calls to the API. This will impact your overall rate limits.\n",
      "  UserWarning,\n",
      "/Users/james/anaconda/lib/python2.7/site-packages/ads/utils.py:23: UserWarning: You are lazy loading attributes via 'author', and so are making multiple calls to the API. This will impact your overall rate limits.\n",
      "  UserWarning,\n"
     ]
    }
   ],
   "source": [
    "#main prog\n",
    "if __name__ == \"__main__\":\n",
    "    print('SMTG PUBLICATION SCRIPT (JT 2016)')\n",
    "    print(\"-------\")\n",
    "    #first check the date and rip out the current month/year\n",
    "    now = localtime()\n",
    "    year, month = (now.tm_year, now.tm_mon - 1)\n",
    "    if 1 > month: year, month = (year - 1, month)\n",
    "    print('Querying Year/Month {0} (in month {1})'.format(year, month)),\n",
    "    print(),\n",
    "\n",
    "    #query the location of the current staff list\n",
    "    staffloc='/Users/james/Public/smtg/staff_current.txt'\n",
    "    outname='test.html'\n",
    "    if os.path.exists(staffloc): staff=load(staffloc) \n",
    "\n",
    "    authlist=[]\n",
    "    titlelist=[]\n",
    "\n",
    "    for person in staff:\n",
    "        #glue together the peoples name in stafflist\n",
    "        eachname=','.join(person[2:4])[2:-1]\n",
    "\n",
    "        # Query ADS for author, institute, pub date, database...\n",
    "        query = ads.SearchQuery( q='author:\\\"{0}\\\" pubdate:{1} \\\n",
    "        aff:(\\\"University of St Andrews\\\") property:refereed  \\\n",
    "        database:(\"astronomy\" OR \"physics\")'.format(eachname, year),\n",
    "        #fl=['id', 'first_author', 'year', 'bibcode', 'identifier', 'author','title'],\n",
    "        fl=['author','title'])\n",
    "\n",
    "        query.execute()\n",
    "        #count the number of pubs each person has (so far)\n",
    "        num = int(query.response.numFound)\n",
    "        print(\"{person} had {num} publications in {year}\".format(person=eachname, num=num, year=year))\n",
    "\n",
    "        #if anything published, then add that to the list\n",
    "        if num > 0:\n",
    "            for n in query:\n",
    "                #avoid multiple instances of same paper\n",
    "                if n.title not in titlelist:\n",
    "                    titlelist.append(n.title)\n",
    "                    authlist.append(n.author)\n",
    "                #else:\n",
    "                    #print('matched publication, ignoring..')\n",
    "    #list is done, so now write out the table, JOB DONE.\n",
    "    write_table(tlist=titlelist,alist=authlist,filename=outfile, stfile=staffloc)    \n",
    "    print(\"-------\")\n",
    "    print('DONE')\n",
    "    print('')"
   ]
  },
  {
   "cell_type": "code",
   "execution_count": null,
   "metadata": {
    "collapsed": true
   },
   "outputs": [],
   "source": []
  }
 ],
 "metadata": {
  "kernelspec": {
   "display_name": "Python 2",
   "language": "python",
   "name": "python2"
  },
  "language_info": {
   "codemirror_mode": {
    "name": "ipython",
    "version": 2
   },
   "file_extension": ".py",
   "mimetype": "text/x-python",
   "name": "python",
   "nbconvert_exporter": "python",
   "pygments_lexer": "ipython2",
   "version": "2.7.11"
  }
 },
 "nbformat": 4,
 "nbformat_minor": 0
}
