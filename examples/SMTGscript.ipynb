{
 "cells": [
  {
   "cell_type": "code",
   "execution_count": 28,
   "metadata": {
    "collapsed": true
   },
   "outputs": [],
   "source": [
    "from __future__ import print_function, division"
   ]
  },
  {
   "cell_type": "code",
   "execution_count": 29,
   "metadata": {
    "collapsed": true
   },
   "outputs": [],
   "source": [
    "import ads\n",
    "import sys\n",
    "import numpy\n",
    "import unicodedata\n",
    "import os.path\n",
    "from StringIO import StringIO\n",
    "from time import localtime"
   ]
  },
  {
   "cell_type": "code",
   "execution_count": 30,
   "metadata": {
    "collapsed": false
   },
   "outputs": [],
   "source": [
    "# ADS needs a token - this one is for jwt104@googlemail.com so be warned!\n",
    "ads.config.token = 'zmmgkG86fM0hBeBjoOJicrr5GegJWe69vJ5ULDNd'"
   ]
  },
  {
   "cell_type": "code",
   "execution_count": 31,
   "metadata": {
    "collapsed": false
   },
   "outputs": [],
   "source": [
    "#simple function to read in a file\n",
    "def load(fname):\n",
    "    ''' load the file using std open'''\n",
    "    f = open(fname,'r')\n",
    "\n",
    "    data = []\n",
    "    for line in f.readlines():\n",
    "        data.append(line.replace('\\n','').split(';'))\n",
    "\n",
    "    f.close()\n",
    "\n",
    "    return data"
   ]
  },
  {
   "cell_type": "code",
   "execution_count": 32,
   "metadata": {
    "collapsed": false
   },
   "outputs": [],
   "source": [
    "# function to compare name against staff list and add hyperlink if match found\n",
    "def compareauthor(name,sfile):\n",
    "    '''compare author with SMTG grp members and return link if matched'''    \n",
    "    assert type(name) == unicode, 'name must be unicode string'\n",
    "    assert type(sfile) == str, 'staff filename must be a string'\n",
    "    \n",
    "    if os.path.exists(sfile): staff=load(sfile)\n",
    "    \n",
    "    found=0\n",
    "    for people in staff:\n",
    "        nom=','.join(people[2:3])[2:-1]\n",
    "        if len(people[0].split()) == 3:\n",
    "            altnom=''.join(people[0].split(' ')[2:3])+', '+' '.join(people[0].split(' ')[0:2])\n",
    "        else:\n",
    "            altnom=', '.join(people[0].split(' ')[::-1])\n",
    "        if  nom == name.encode(\"utf-8\"):\n",
    "            #print('FOUND'),\n",
    "            found=1\n",
    "            jsthing=''.join(people[4:])\n",
    "            linktoreturn = '<a href={0}>{1}</a>'.format(jsthing[1:],name)\n",
    "            type(linktoreturn)\n",
    "            #fine, thats the normal short form name, what about full name?\n",
    "\n",
    "        if  found==0 and altnom == name.encode(\"utf-8\"):\n",
    "            #print('FOUND'),\n",
    "            found=1\n",
    "            jsthing=''.join(people[4:])\n",
    "            linktoreturn = '<a href={0}>{1}</a>'.format(jsthing[1:],altnom)\n",
    "            type(linktoreturn)\n",
    "            \n",
    "\n",
    "    if found == 0:\n",
    "        linktoreturn=name\n",
    "    \n",
    "    linktoreturn=u'{0}; '.format(linktoreturn)\n",
    "            \n",
    "    return linktoreturn"
   ]
  },
  {
   "cell_type": "code",
   "execution_count": 33,
   "metadata": {
    "collapsed": false
   },
   "outputs": [],
   "source": [
    "#simple function to output basic html table of correctly formatted authors and titles of SMTG pubs\n",
    "def write_table(tlist,alist, dlist, filename,stfile):\n",
    "    '''output simple html table containing list of recent SMTG pubs and authors'''\n",
    "    assert type(tlist) == list, 'titlelist must be list of titles'\n",
    "    assert type(alist) == list, 'authorlist must be list of authors'\n",
    "    assert type(dlist) == list, 'doilist must be list of authors'\n",
    "    assert len(tlist) == len(alist), 'author and title list must be same length'\n",
    "    assert type(filename) == str, 'name must be string'\n",
    "    assert type(stfile) == str, 'stafflist file must be a string'\n",
    "    \n",
    "    target = open(filename, 'w')\n",
    "    target.truncate()\n",
    "    \n",
    "    my_string = '' \n",
    "    target.write('<HTML><head></head><body>')\n",
    "    target.write('<table>')\n",
    "    target.write(\"\\n\")\n",
    "    for title, authors, doi in zip(tlist, alist, dlist):    \n",
    "    #for paper in titlelist:\n",
    "        target.write('<tr><td>')\n",
    "        target.write(\"\\n\")\n",
    "        for author in authors:\n",
    "            temp=compareauthor(name=author, sfile=stfile)\n",
    "            target.write(temp.encode('ascii', 'xmlcharrefreplace'))\n",
    "        \n",
    "        target.write(\"\\n\")\n",
    "        target.write('</td><td>')\n",
    "        target.write('<a href=http://dx.doi.org/')\n",
    "        target.write(str(doi).encode('ascii')[3:-2])\n",
    "        target.write('>')\n",
    "        target.write(str(title).encode('ascii', 'xmlcharrefreplace')[3:-2])\n",
    "        target.write('</a>')\n",
    "        target.write('</td></tr>')\n",
    "        target.write(\"\\n\")\n",
    "    \n",
    "    target.write('</table></body></HTML>')\n",
    "    target.close()"
   ]
  },
  {
   "cell_type": "code",
   "execution_count": 35,
   "metadata": {
    "collapsed": false
   },
   "outputs": [
    {
     "name": "stdout",
     "output_type": "stream",
     "text": [
      "SMTG PUBLICATION SCRIPT (JT 2016)\n",
      "-------\n",
      "Querying Year/Month 2016 (in month 6)\n",
      "\n",
      "Hood, A. W. had 3 publications in 2016\n",
      "Archontis, V. had 0 publications in 2016\n",
      "De Moortel, I. had 2 publications in 2016\n",
      "Mackay, D. H. had 3 publications in 2016\n",
      "Neukirch, T. had 6 publications in 2016\n",
      "Parnell, C. E. had 3 publications in 2016\n",
      "Wright, A. N. had 3 publications in 2016\n",
      "Conlon, T. M. had 0 publications in 2016\n",
      "Antolin, P. had 202 publications in 2016\n",
      "Pagano, P. had 0 publications in 2016\n",
      "Threlfall, J. had 3 publications in 2016\n",
      "Wilson, F. had 2 publications in 2016\n",
      "Haynes, A. L. had 0 publications in 2016\n",
      "Brooks, S. had 0 publications in 2016\n",
      "Fruchtl, H. had 1 publications in 2016\n",
      "MacFarlane, F. had 0 publications in 2016\n",
      "Stevenson, J. had 1 publications in 2016\n",
      "Elsden, T. had 1 publications in 2016\n",
      "Hodgson, J. B. H. had 0 publications in 2016\n",
      "Lee, E. J. had 0 publications in 2016\n",
      "O'Hara, J. had 0 publications in 2016\n",
      "Allanson, O. had 1 publications in 2016\n",
      "Sturrock, Z. had 0 publications in 2016\n",
      "Borissov, A. had 1 publications in 2016\n",
      "Johnston, C. D. J. had 0 publications in 2016\n",
      "Williams, B. had 0 publications in 2016\n",
      "Goldstraw, E. had 0 publications in 2016\n",
      "Howson, T. had 0 publications in 2016\n",
      "Priest, E. R. had 0 publications in 2016\n",
      "Cargill, P. J. had 2 publications in 2016\n",
      "Roberts, B. had 0 publications in 2016\n",
      "-------\n",
      "DONE: output to ./test.html\n",
      "-------\n",
      "\n"
     ]
    }
   ],
   "source": [
    "#main prog\n",
    "if __name__ == \"__main__\":\n",
    "    print('SMTG PUBLICATION SCRIPT (JT 2016)')\n",
    "    print(\"-------\")\n",
    "    #first check the date and rip out the current month/year\n",
    "    now = localtime()\n",
    "    print, now\n",
    "    year, month = (now.tm_year, now.tm_mon)\n",
    "    if 1 > month: year, month = (year - 1, month)\n",
    "    print('Querying Year/Month {0} (in month {1})'.format(year, month)),\n",
    "    print(),\n",
    "\n",
    "    #query the location of the current staff list\n",
    "    staffloc='../staff_current.txt'\n",
    "    if os.path.exists(staffloc):\n",
    "        staff=load(staffloc) \n",
    "    else:\n",
    "        print('NO FILE FOUND AT', staffloc)\t\n",
    "        exit() \n",
    "    \n",
    "    outfile='./test.html'\n",
    "    authlist=[]\n",
    "    titlelist=[]\n",
    "    doilist=[]\n",
    "    \n",
    "    for person in staff:\n",
    "        #glue together the peoples name in stafflist\n",
    "        eachname=','.join(person[2:3])[2:-1]\n",
    "        # Query ADS for author, institute, pub date, database...\n",
    "        query = ads.SearchQuery(  fl=['author','title','doi'], q='author:\\\"{0}\\\" pubdate:{1} \\\n",
    "        aff:(\\\"University of St Andrews\\\") property:refereed  \\\n",
    "        database:(\"astronomy\" OR \"physics\")'.format(eachname, year),\n",
    "        #fl=['id', 'first_author', 'year', 'bibcode', 'identifier', 'author','title'],\n",
    "        rows=5 )\n",
    "        query.execute()\n",
    "        #count the number of pubs each person has (so far)\n",
    "        num = int(query.response.numFound)\n",
    "        print(\"{person} had {num} publications in {year}\".format(person=eachname, num=num, year=year))\n",
    "        \n",
    "        #if anything published, then add that to the list\n",
    "        if num > 0:\n",
    "            for n in query:\n",
    "                #avoid multiple instances of same paper\n",
    "                if n.title not in titlelist:\n",
    "                    titlelist.append(n.title)\n",
    "                    authlist.append(n.author)\n",
    "                    doilist.append(n.doi)\n",
    "                #else:\n",
    "                    #print('matched publication, ignoring..')\n",
    "    #list is done, so now write out the table, JOB DONE.\n",
    "    \n",
    "    write_table(tlist=titlelist,alist=authlist,dlist=doilist,filename=outfile, stfile=staffloc)    \n",
    "    print(\"-------\")\n",
    "    print('DONE: output to {0}'.format(outfile))\n",
    "    print('-------')\n",
    "    print('')"
   ]
  },
  {
   "cell_type": "code",
   "execution_count": 14,
   "metadata": {
    "collapsed": false
   },
   "outputs": [
    {
     "name": "stdout",
     "output_type": "stream",
     "text": [
      "u'10.1088/0741-3335/58/1/014001'\n",
      "10.1088/0741-3335/58/1/014001\n"
     ]
    }
   ],
   "source": [
    "temp=str(doilist[0])[1:-1]\n",
    "print(temp.encode(\"ascii\"))\n",
    "print(temp[2:-1])"
   ]
  },
  {
   "cell_type": "code",
   "execution_count": 85,
   "metadata": {
    "collapsed": false
   },
   "outputs": [
    {
     "ename": "AttributeError",
     "evalue": "'list' object has no attribute 'encode'",
     "output_type": "error",
     "traceback": [
      "\u001b[0;31m---------------------------------------------------------------------------\u001b[0m",
      "\u001b[0;31mAttributeError\u001b[0m                            Traceback (most recent call last)",
      "\u001b[0;32m<ipython-input-85-74570337c683>\u001b[0m in \u001b[0;36m<module>\u001b[0;34m()\u001b[0m\n\u001b[0;32m----> 1\u001b[0;31m \u001b[0my\u001b[0m\u001b[0;34m=\u001b[0m\u001b[0;34m[\u001b[0m\u001b[0ms\u001b[0m\u001b[0;34m.\u001b[0m\u001b[0mencode\u001b[0m\u001b[0;34m(\u001b[0m\u001b[0;34m'ascii'\u001b[0m\u001b[0;34m,\u001b[0m \u001b[0;34m'ignore'\u001b[0m\u001b[0;34m)\u001b[0m \u001b[0;32mfor\u001b[0m \u001b[0ms\u001b[0m \u001b[0;32min\u001b[0m \u001b[0mdoilist\u001b[0m\u001b[0;34m]\u001b[0m\u001b[0;34m\u001b[0m\u001b[0m\n\u001b[0m",
      "\u001b[0;31mAttributeError\u001b[0m: 'list' object has no attribute 'encode'"
     ]
    }
   ],
   "source": [
    "y=[s.encode('ascii', 'ignore') for s in doilist]"
   ]
  },
  {
   "cell_type": "code",
   "execution_count": 77,
   "metadata": {
    "collapsed": false
   },
   "outputs": [
    {
     "data": {
      "text/plain": [
       "list"
      ]
     },
     "execution_count": 77,
     "metadata": {},
     "output_type": "execute_result"
    }
   ],
   "source": [
    "type(doilist)"
   ]
  },
  {
   "cell_type": "code",
   "execution_count": 24,
   "metadata": {
    "collapsed": false
   },
   "outputs": [
    {
     "name": "stdout",
     "output_type": "stream",
     "text": [
      "[[u'De Moortel, I.', u'Pascoe, D. J.', u'Wright, A. N.', u'Hood, A. W.'], [u'Hood, A. W.', u'Cargill, P. J.', u'Browning, P. K.', u'Tam, K. V.'], [u'Bareford, M. R.', u'Gordovskyy, M.', u'Browning, P. K.', u'Hood, A. W.'], [u'Cargill, P. J.', u'De Moortel, I.', u'Kiddie, G.'], [u'Gibb, G. P. S.', u'Mackay, D. H.', u'Jardine, M. M.', u'Yeates, A. R.'], [u'Jess, David B.', u'Reznikova, Veronika E.', u'Ryans, Robert S. I.', u'Christian, Damian J.', u'Keys, Peter H.', u'Mathioudakis, Mihalis', u'Mackay, Duncan H.', u'Krishna Prasad, S.', u'Banerjee, Dipankar', u'Grant, Samuel D. T.', u'Yau, Sean', u'Diamond, Conor'], [u'Weinzierl, Marion', u'Yeates, Anthony R.', u'Mackay, Duncan H.', u'Henney, Carl J.', u'Arge, C. Nick'], [u'Wilson, F.', u'Neukirch, T.', u'Hesse, M.', u'Harrison, M. G.', u'Stark, C. R.'], [u'Threlfall, J.', u'Stevenson, J. E. H.', u'Parnell, C. E.', u'Neukirch, T.'], [u'Threlfall, J.', u'Bourdin, Ph. -A.', u'Neukirch, T.', u'Parnell, C. E.'], [u'Allanson, Oliver', u'Neukirch, Thomas', u'Troscheit, Sascha', u'Wilson, Fiona'], [u'MacTaggart, D.', u'Gregory, S. G.', u'Neukirch, T.', u'Donati, J. -F.'], [u'Borissov, Alexei', u'Neukirch, Thomas', u'Threlfall, James'], [u'Edwards, S. J.', u'Parnell, C. E.', u'Harra, L. K.', u'Culhane, J. L.', u'Brooks, D. H.'], [u'Elsden, T.', u'Wright, A. N.', u'Hartinger, M. D.'], [u'Terradas, J.', u'Soler, R.', u'Luna, M.', u'Oliver, R.', u'Ballester, J. L.', u'Wright, A. N.'], [u'Wedemeyer, S.', u'Bastian, T.', u'Braj\\u0161a, R.', u'Hudson, H.', u'Fleishman, G.', u'Loukitcheva, M.', u'Fleck, B.', u'Kontar, E. P.', u'De Pontieu, B.', u'Yagoubov, P.', u'Tiwari, S. K.', u'Soler, R.', u'Black, J. H.', u'Antolin, P.', u'Scullion, E.', u'Gun\\xe1r, S.', u'Labrosse, N.', u'Ludwig, H. -G.', u'Benz, A. O.', u'White, S. M.', u'Hauschildt, P.', u'Doyle, J. G.', u'Nakariakov, V. M.', u'Ayres, T.', u'Heinzel, P.', u'Karlicky, M.', u'Van Doorsselaere, T.', u'Gary, D.', u'Alissandrakis, C. E.', u'Nindos, A.', u'Solanki, S. K.', u'Rouppe van der Voort, L.', u'Shimojo, M.', u'Kato, Y.', u'Zaqarashvili, T.', u'Perez, E.', u'Selhorst, C. L.', u'Barta, M.'], [u'Grillo, F.', u'Garrido Torres, J. A.', u'Treanor, M. -J.', u'Larrea, C. R.', u'G\\u0102\\u015btze, J. P.', u'Lacovig, P.', u'Fr\\u0102\\u017achtl, H. A.', u'Schaub, R.', u'Richardson, N. V.']]\n"
     ]
    }
   ],
   "source": [
    "print(authlist)"
   ]
  },
  {
   "cell_type": "code",
   "execution_count": null,
   "metadata": {
    "collapsed": true
   },
   "outputs": [],
   "source": []
  }
 ],
 "metadata": {
  "kernelspec": {
   "display_name": "Python 2",
   "language": "python",
   "name": "python2"
  },
  "language_info": {
   "codemirror_mode": {
    "name": "ipython",
    "version": 2
   },
   "file_extension": ".py",
   "mimetype": "text/x-python",
   "name": "python",
   "nbconvert_exporter": "python",
   "pygments_lexer": "ipython2",
   "version": "2.7.11"
  }
 },
 "nbformat": 4,
 "nbformat_minor": 0
}
