{
 "cells": [
  {
   "cell_type": "code",
   "execution_count": 1,
   "metadata": {
    "collapsed": true
   },
   "outputs": [],
   "source": [
    "from __future__ import print_function, division\n",
    "import ads\n",
    "import sys\n",
    "import numpy\n",
    "import unicodedata\n",
    "import os.path\n",
    "import re\n",
    "import string\n",
    "from StringIO import StringIO\n",
    "from time import localtime\n",
    "from tempfile import mkstemp\n",
    "from shutil import move\n",
    "from os import remove, close"
   ]
  },
  {
   "cell_type": "code",
   "execution_count": 2,
   "metadata": {
    "collapsed": false
   },
   "outputs": [],
   "source": [
    "# ADS needs a token - this one is for jwt104@googlemail.com so be warned!\n",
    "ads.config.token = 'zmmgkG86fM0hBeBjoOJicrr5GegJWe69vJ5ULDNd'"
   ]
  },
  {
   "cell_type": "code",
   "execution_count": 3,
   "metadata": {
    "collapsed": false
   },
   "outputs": [],
   "source": [
    "#simple function to read in a file\n",
    "def load(fname):\n",
    "    ''' load the file using std open'''\n",
    "    f = open(fname,'r')\n",
    "\n",
    "    data = []\n",
    "    for line in f.readlines():\n",
    "        data.append(line.replace('\\n','').split(';'))\n",
    "\n",
    "    f.close()\n",
    "\n",
    "    return data"
   ]
  },
  {
   "cell_type": "code",
   "execution_count": 4,
   "metadata": {
    "collapsed": false
   },
   "outputs": [],
   "source": [
    "#complex function to steal javascript string from stafflist file and append/update with latest pubs (if any)\n",
    "def updatepubs(oldstaffloc,newstaffloc):\n",
    "    ''' read in staff data and append latest ads pub info'''\n",
    "\n",
    "    #first check the date and rip out the current month/year\n",
    "    now = localtime()\n",
    "    print, now\n",
    "    year, month = (now.tm_year, now.tm_mon)\n",
    "    if 1 > month: year, month = (year - 1, month)\n",
    "    print('Querying Year/Month {0} (in month {1})'.format(year, month)),\n",
    "    print(),\n",
    "\n",
    "    #query the location of the current staff list\n",
    "    #staffloc='../staff_current_temp.txt'\n",
    "    if os.path.exists(staffloc):\n",
    "        staff=load(staffloc)\n",
    "    else:\n",
    "        print('NO FILE FOUND AT', staffloc)\t\n",
    "        exit() \n",
    "    \n",
    "    nstaff=len(staff)\n",
    "    staffcount=0\n",
    "    \n",
    "    with open(oldstaffloc, 'r') as old_file:\n",
    "        with open(newstaffloc,'w') as new_file:\n",
    "            for person in staff[0:29]:#remember that peter and bernie do NOT have a javascript thing.\n",
    "                staffcount +=1\n",
    "                newdatalist=[]\n",
    "                #glue together the peoples name in stafflist\n",
    "                eachname=','.join(person[2:3])[2:-1]\n",
    "                # Query ADS for author, institute, pub date, database...\n",
    "                papers=list(ads.SearchQuery(sort=\"date desc\", fl=['author','title','doi', 'bibcode'], \\\n",
    "                                            q='author:\\\"{0}\\\" aff:(\"University of St Andrews\" \\\n",
    "                                            OR \"National Astronomical Observatory of Japan\") \\\n",
    "                                            property:refereed database:(\"astronomy\" OR \"physics\")'.format(eachname)))\n",
    "                if len(papers) >= 3:\n",
    "                    for n in papers[0:3]:\n",
    "                        newdatalist.append(str(n.doi).encode('ascii')[3:-2])\n",
    "                        newdatalist.append(str(n.bibcode).encode('ascii'))\n",
    "                else:\n",
    "                    for n in papers:\n",
    "                        newdatalist.append(str(n.doi).encode('ascii')[3:-2])\n",
    "                        newdatalist.append(str(n.bibcode).encode('ascii'))\n",
    "                \n",
    "                print('staff member {0}'.format(staffcount))\n",
    "                print('{0} - {1} papers'.format(eachname, len(papers)))\n",
    "                linecount=0\n",
    "                old_file.seek(0)\n",
    "                for line in old_file:\n",
    "                    linecount+=1\n",
    "                    #print('linecount {0} - staffcount {1}'.format(linecount, staffcount))\n",
    "                    if linecount == staffcount:\n",
    "                        #print(line)\n",
    "                        data = []\n",
    "                        data.append(line.replace('\\n','').split(';'))\n",
    "                        #print('; '.join(data[0][-7:-1]))\n",
    "                        #print('replace with')\n",
    "                        #print('; '.join(newdatalist))\n",
    "                        #print(data[0][4])\n",
    "                        temp=data[0][4].split(\",\")\n",
    "                        #print(temp)\n",
    "                        keep=temp[0:4]\n",
    "                        tkeep=''\n",
    "                        if len(newdatalist)== 6:\n",
    "                            tkeep=string.replace(keep[0],'createP','createP3')\n",
    "                        if len(newdatalist)== 4:\n",
    "                            tkeep=string.replace(keep[0],'createP','createP2')\n",
    "                        if len(newdatalist)== 2:\n",
    "                            tkeep=string.replace(keep[0],'createP','createP1')\n",
    "                        if len(newdatalist)== 0:\n",
    "                            tkeep=keep[0]                       \n",
    "                        keep[0]=tkeep       \n",
    "                        keep.append(temp[-1].split(\")\")[0])\n",
    "                        needcomma= ', ' if len(newdatalist)>=1 else ''\n",
    "                        newtemp=', '.join(front for front in keep)+ needcomma +\\\n",
    "                        ', '.join(\"'\" + item + \"'\" for item in newdatalist)+')\"'\n",
    "                        data[0][4]=newtemp\n",
    "                        data[0][:].append('\\n')\n",
    "                        newline=';'.join(data[0][:])+'\\n'\n",
    "                        new_file.write(newline)\n",
    "                        \n",
    "            "
   ]
  },
  {
   "cell_type": "code",
   "execution_count": 5,
   "metadata": {
    "collapsed": false
   },
   "outputs": [],
   "source": [
    "# function to compare name against staff list and add hyperlink if match found\n",
    "def compareauthor(name,sfile):\n",
    "    '''compare author with SMTG grp members and return link if matched'''    \n",
    "    assert type(name) == unicode, 'name must be unicode string'\n",
    "    assert type(sfile) == str, 'staff filename must be a string'\n",
    "    \n",
    "    if os.path.exists(sfile): staff=load(sfile)\n",
    "    \n",
    "    found=0\n",
    "    for people in staff:\n",
    "        nom=','.join(people[2:3])[2:-1]\n",
    "        if len(people[0].split()) == 3:\n",
    "            altnom=''.join(people[0].split(' ')[2:3])+', '+' '.join(people[0].split(' ')[0:2])\n",
    "        else:\n",
    "            altnom=', '.join(people[0].split(' ')[::-1])\n",
    "        if  nom == name.encode(\"utf-8\"):\n",
    "            #print('FOUND'),\n",
    "            found=1\n",
    "            jsthing=''.join(people[4:])\n",
    "            linktoreturn = '<a href={0}>{1}</a>'.format(jsthing[1:],name)\n",
    "            type(linktoreturn)\n",
    "            #fine, thats the normal short form name, what about full name?\n",
    "\n",
    "        if  found==0 and altnom == name.encode(\"utf-8\"):\n",
    "            #print('FOUND'),\n",
    "            found=1\n",
    "            jsthing=''.join(people[4:])\n",
    "            linktoreturn = '<a href={0}>{1}</a>'.format(jsthing[1:],altnom)\n",
    "            type(linktoreturn)\n",
    "            \n",
    "\n",
    "    if found == 0:\n",
    "        linktoreturn=name\n",
    "    \n",
    "    linktoreturn=u'{0}; '.format(linktoreturn)\n",
    "            \n",
    "    return linktoreturn"
   ]
  },
  {
   "cell_type": "code",
   "execution_count": 6,
   "metadata": {
    "collapsed": false
   },
   "outputs": [],
   "source": [
    "#simple function to output basic html table of correctly formatted authors and titles of SMTG pubs\n",
    "def write_table(tlist,alist, dlist, filename,stfile):\n",
    "    '''output simple html table containing list of recent SMTG pubs and authors'''\n",
    "    assert type(tlist) == list, 'titlelist must be list of titles'\n",
    "    assert type(alist) == list, 'authorlist must be list of authors'\n",
    "    assert type(dlist) == list, 'doilist must be list of authors'\n",
    "    assert len(tlist) == len(alist), 'author and title list must be same length'\n",
    "    assert type(filename) == str, 'name must be string'\n",
    "    assert type(stfile) == str, 'stafflist file must be a string'\n",
    "    \n",
    "    target = open(filename, 'w')\n",
    "    target.truncate()\n",
    "    \n",
    "    my_string = '' \n",
    "    target.write('<HTML><head></head><body>')\n",
    "    target.write('<table>')\n",
    "    target.write(\"\\n\")\n",
    "    for title, authors, doi in zip(tlist, alist, dlist):    \n",
    "    #for paper in titlelist:\n",
    "        target.write('<tr><td>')\n",
    "        target.write(\"\\n\")\n",
    "        for author in authors:\n",
    "            temp=compareauthor(name=author, sfile=stfile)\n",
    "            target.write(temp.encode('ascii', 'xmlcharrefreplace'))\n",
    "        \n",
    "        target.write(\"\\n\")\n",
    "        target.write('</td><td>')\n",
    "        target.write('<a href=http://dx.doi.org/')\n",
    "        target.write(str(doi).encode('ascii')[3:-2])\n",
    "        target.write('>')\n",
    "        target.write(str(title)[3:-2].encode('ascii', 'xmlcharrefreplace'))\n",
    "        target.write('</a>')\n",
    "        target.write('</td></tr>')\n",
    "        target.write(\"\\n\")\n",
    "    \n",
    "    target.write('</table></body></HTML>')\n",
    "    target.close()"
   ]
  },
  {
   "cell_type": "code",
   "execution_count": 8,
   "metadata": {
    "collapsed": false
   },
   "outputs": [
    {
     "name": "stdout",
     "output_type": "stream",
     "text": [
      "SMTG recent pubs script (JT 2016)\n",
      "-------\n",
      "Querying Year/Month 2016 (in month 11)\n",
      "\n",
      "staff member 1\n",
      "Hood, A. W. - 50 papers\n",
      "staff member 2\n",
      "Archontis, V. - 25 papers\n",
      "staff member 3\n",
      "De Moortel, I. - 50 papers\n",
      "staff member 4\n",
      "Mackay, D. H. - 50 papers\n",
      "staff member 5\n",
      "Neukirch, T. - 50 papers\n",
      "staff member 6\n",
      "Parnell, C. E. - 50 papers\n",
      "staff member 7\n",
      "Wright, A. N. - 48 papers\n",
      "staff member 8\n",
      "Conlon, T. M. - 1 papers\n",
      "staff member 9\n",
      "Antolin, P. - 19 papers\n",
      "staff member 10\n",
      "Pagano, P. - 6 papers\n",
      "staff member 11\n",
      "Threlfall, J. - 10 papers\n",
      "staff member 12\n",
      "Wilson, F. - 7 papers\n",
      "staff member 13\n",
      "Haynes, A. L. - 14 papers\n",
      "staff member 14\n",
      "Brooks, S. - 2 papers\n",
      "staff member 15\n",
      "Fruchtl, H. - 5 papers\n",
      "staff member 16\n",
      "MacFarlane, F. - 0 papers\n",
      "staff member 17\n",
      "Stevenson, J. - 7 papers\n",
      "staff member 18\n",
      "Elsden, T. - 2 papers\n",
      "staff member 19\n",
      "Hodgson, J. D. B. - 0 papers\n",
      "staff member 20\n",
      "Lee, E. J. - 1 papers\n",
      "staff member 21\n",
      "O'Hara, J. - 1 papers\n",
      "staff member 22\n",
      "Allanson, O. - 4 papers\n",
      "staff member 23\n",
      "Sturrock, Z. - 3 papers\n",
      "staff member 24\n",
      "Borissov, A. - 1 papers\n",
      "staff member 25\n",
      "Johnston, C. D. - 0 papers\n",
      "staff member 26\n",
      "Williams, B. - 0 papers\n",
      "staff member 27\n",
      "Goldstraw, E. - 0 papers\n",
      "staff member 28\n",
      "Howson, T. - 0 papers\n",
      "staff member 29\n",
      "Priest, E. R. - 50 papers\n",
      "-------\n",
      "DONE: output to ../staff_current_temp2.txt\n",
      "-------\n",
      "\n"
     ]
    }
   ],
   "source": [
    "#main prog\n",
    "if __name__ == \"__main__\":\n",
    "    print('SMTG recent pubs script (JT 2016)')\n",
    "    print(\"-------\")\n",
    "    \n",
    "    staffloc='../staff_current_temp.txt'\n",
    "    outfile='../staff_current_temp2.txt'\n",
    "    \n",
    "    updatepubs(staffloc, outfile)\n",
    "\n",
    "    #updated to include NAOJ articles for patrick\n",
    "    #10.1017/S0022377816000519 is Oliver's most recent pub (see also fiona, thomas), but ADS omits DOI.\n",
    "    #jonathan's 2015 paper ,'10.1080/03091929.2015.1081188','2015GApFD.109..524H' is ignored by ADS\n",
    "\n",
    "    print(\"-------\")\n",
    "    print('DONE: output to {0}'.format(outfile))\n",
    "    print('-------')\n",
    "    print('')"
   ]
  },
  {
   "cell_type": "code",
   "execution_count": 15,
   "metadata": {
    "collapsed": false
   },
   "outputs": [],
   "source": [
    "papers=list(ads.SearchQuery(sort=\"date desc\", fl=['author','title','doi', 'bibcode'], \\\n",
    "                                            q='author:\\\"{0}\\\" aff:(\\\"University of St Andrews\\\" \\\n",
    "                                            OR \\\"National Astronomical Observatory of Japan\\\") \\\n",
    "                                            property:refereed'.format('Antolin, P.')))"
   ]
  },
  {
   "cell_type": "code",
   "execution_count": 17,
   "metadata": {
    "collapsed": false
   },
   "outputs": [
    {
     "name": "stdout",
     "output_type": "stream",
     "text": [
      "2016ApJ...823L..16T\n",
      "2016SSRv..200....1W\n",
      "2016FrASS...3....4V\n",
      "2015AdSpR..56.2679W\n",
      "2015ApJ...809...71O\n",
      "2015ApJ...809...72A\n",
      "2015ApJ...807...98Y\n",
      "2015ApJ...806...81A\n",
      "2015ApJ...804..147C\n",
      "2015ApJ...803...85L\n",
      "2015SoPh..290..399D\n",
      "2014ApJ...797...36S\n",
      "2014ApJ...792L..38X\n",
      "2014ApJ...789L..42K\n",
      "2014ApJ...787L..22A\n",
      "2014ApJ...785...86R\n",
      "2010ASSP...19..277A\n",
      "2008ApJ...688..669A\n"
     ]
    }
   ],
   "source": [
    "for paper in papers:\n",
    "    print(paper.bibcode)"
   ]
  },
  {
   "cell_type": "code",
   "execution_count": null,
   "metadata": {
    "collapsed": false
   },
   "outputs": [],
   "source": [
    "import shlex\n",
    "shlex.split(\"'play' 'song I\\ Want\\ To\\ Break\\ Free')"
   ]
  },
  {
   "cell_type": "code",
   "execution_count": 21,
   "metadata": {
    "collapsed": false
   },
   "outputs": [
    {
     "data": {
      "text/plain": [
       "['http\\\\://www.example.url', 'ftp\\\\://www.example.url']"
      ]
     },
     "execution_count": 21,
     "metadata": {},
     "output_type": "execute_result"
    }
   ],
   "source": [
    "stuff='http\\://www.example.url:ftp\\://www.example.url'\n",
    "re.split(r'(?<!\\\\):', stuff)"
   ]
  },
  {
   "cell_type": "code",
   "execution_count": 22,
   "metadata": {
    "collapsed": true
   },
   "outputs": [],
   "source": [
    "jenny=\"javascript:createPDoc('Jennifer O\\'Hara','223','johara','jo97','01334 463727')\""
   ]
  },
  {
   "cell_type": "code",
   "execution_count": 95,
   "metadata": {
    "collapsed": false
   },
   "outputs": [
    {
     "data": {
      "text/plain": [
       "[\"javascript:createPDoc('Jennifer O'Hara'\",\n",
       " \"'223'\",\n",
       " \"'johara'\",\n",
       " \"'jo97'\",\n",
       " \"'01334 463727')\"]"
      ]
     },
     "execution_count": 95,
     "metadata": {},
     "output_type": "execute_result"
    }
   ],
   "source": [
    "jenny.split(\",\")"
   ]
  },
  {
   "cell_type": "code",
   "execution_count": 94,
   "metadata": {
    "collapsed": false
   },
   "outputs": [
    {
     "data": {
      "text/plain": [
       "[\"Jennifer O'Hara\", 'johara']"
      ]
     },
     "execution_count": 94,
     "metadata": {},
     "output_type": "execute_result"
    }
   ],
   "source": [
    "splits=re.compile(\"\\'([a-zA-z ']+)\\'\")\n",
    "# mystring=\" 'Linehan', 'Ayoade', 'O\\'Dowd', 'Parkinson' \"\n",
    "strs=splits.findall(jenny)\n",
    "strs\n"
   ]
  },
  {
   "cell_type": "code",
   "execution_count": null,
   "metadata": {
    "collapsed": true
   },
   "outputs": [],
   "source": []
  }
 ],
 "metadata": {
  "kernelspec": {
   "display_name": "Python 2",
   "language": "python",
   "name": "python2"
  },
  "language_info": {
   "codemirror_mode": {
    "name": "ipython",
    "version": 2
   },
   "file_extension": ".py",
   "mimetype": "text/x-python",
   "name": "python",
   "nbconvert_exporter": "python",
   "pygments_lexer": "ipython2",
   "version": "2.7.11"
  }
 },
 "nbformat": 4,
 "nbformat_minor": 0
}
